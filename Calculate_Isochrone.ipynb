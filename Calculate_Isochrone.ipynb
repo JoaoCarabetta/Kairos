{
 "cells": [
  {
   "cell_type": "code",
   "execution_count": 46,
   "metadata": {
    "collapsed": false
   },
   "outputs": [],
   "source": [
    "import networkx as nx\n",
    "import scripts.read_graph as rg\n",
    "import folium\n",
    "import random\n",
    "import plotly.plotly as py\n",
    "from plotly.graph_objs import *"
   ]
  },
  {
   "cell_type": "code",
   "execution_count": null,
   "metadata": {
    "collapsed": true
   },
   "outputs": [],
   "source": []
  },
  {
   "cell_type": "code",
   "execution_count": 47,
   "metadata": {
    "collapsed": false
   },
   "outputs": [],
   "source": [
    "MG = rg.read('graphs/sp_final.gexf')"
   ]
  },
  {
   "cell_type": "markdown",
   "metadata": {},
   "source": [
    "Não deixar o fera ficar entrando e saindo de busao"
   ]
  },
  {
   "cell_type": "code",
   "execution_count": 48,
   "metadata": {
    "collapsed": false
   },
   "outputs": [],
   "source": [
    "def getpath(nested_dict, value, prepath=()):\n",
    "    for k, v in nested_dict.items():\n",
    "        path = prepath + (k,)\n",
    "        if v == value: # found value\n",
    "            return path\n",
    "        elif hasattr(v, 'items'): # v is a dict\n",
    "            p = getpath(v, value, path) # recursive call\n",
    "            if p is not None:\n",
    "                return p"
   ]
  },
  {
   "cell_type": "code",
   "execution_count": 53,
   "metadata": {
    "collapsed": false
   },
   "outputs": [],
   "source": [
    "class Walker():\n",
    "    \n",
    "    def __init__(self, graph, stop_id, travel_time, current_time):\n",
    "        self.MG = graph \n",
    "        self.stop_id = stop_id \n",
    "        self.total_time_travel = travel_time * 60 # minutos para segundos \n",
    "        self.traveled_time = 0 \n",
    "        self.visited_set = [] \n",
    "        self.tentative_value = {} \n",
    "        self.current_time = current_time * 60 * 60 # hora para segundo \n",
    "        \n",
    "        self.calculate_location = lambda x: (MG.node[x]['location']['lat'], MG.node[x]['location']['long'])# tuple\n",
    "        self.current_location = self.calculate_location(stop_id)\n",
    "    \n",
    "    def restart(self, current_time, stop_id):\n",
    "        self.traveled_time = 0\n",
    "        self.current_time = current_time\n",
    "        self.stop_id = stop_id\n",
    "    \n",
    "    def build_map(self):\n",
    "        \n",
    "        stops = [self.MG.node[i] for i in self.visited_set]\n",
    "        COORD = (stops[0]['location']['lat'],stops[0]['location']['long']) # sp coordinates\n",
    "        \n",
    "        mapbox_access_token = 'pk.eyJ1IjoiY2hlbHNlYXBsb3RseSIsImEiOiJjaXFqeXVzdDkwMHFrZnRtOGtlMGtwcGs4In0.SLidkdBMEap9POJGIe1eGw'\n",
    "         \n",
    "        \n",
    "        data = Data([\n",
    "            Scattermapbox(\n",
    "                lat=lat,\n",
    "                lon=long,\n",
    "                mode='markers',\n",
    "                marker=Marker(\n",
    "                    size=9\n",
    "                ),\n",
    "\n",
    "            )\n",
    "        ])\n",
    "        layout = Layout(\n",
    "            autosize=True,\n",
    "            hovermode='closest',\n",
    "            mapbox=dict(\n",
    "                accesstoken=mapbox_access_token,\n",
    "                bearing=0,\n",
    "                center=dict(\n",
    "                    lat=COORD[0],\n",
    "                    lon=-COORD[1]\n",
    "                ),\n",
    "                pitch=0,\n",
    "                zoom=10\n",
    "            ),\n",
    "        )\n",
    "\n",
    "        fig = dict(data=data, layout=layout)\n",
    "        py.iplot(fig, filename='Multiple Mapbox', validate=False)\n",
    "    \n",
    "        \"\"\"\n",
    "        mapa = folium.Map(location=COORD, zoom_start=12)\n",
    "        \n",
    "        for i, stop in enumerate(stops[1:]):\n",
    "            \n",
    "            if i == 0:\n",
    "                color = 'black'\n",
    "                fill_color = 'red'\n",
    "                radius=5\n",
    "            elif i < len(self.visited_set):\n",
    "                fill_color = 'black'\n",
    "                color = 'black'\n",
    "                radius=1\n",
    "                \n",
    "\n",
    "            folium.RegularPolygonMarker(\n",
    "                location = [stop['location']['lat'],stop['location']['long']],\n",
    "                color=color,\n",
    "                fill_color=fill_color,\n",
    "                number_of_sides=100,\n",
    "                radius=radius,\n",
    "                ).add_to(mapa)\n",
    "\n",
    "        return(mapa)\n",
    "        \"\"\"\n",
    "    def isochrone(self):\n",
    "        i=0\n",
    "        while 1:\n",
    "            #print('\\n{}: '.format(i))\n",
    "            self.find_neighbours()\n",
    "\n",
    "            minimum, min_key = -1, 0\n",
    "            for key, values in self.tentative_value.items():\n",
    "                if key not in self.visited_set:\n",
    "                    if minimum == -1:\n",
    "                        minimum = values['travel_time']\n",
    "                        min_key = key\n",
    "                    elif values['travel_time'] < minimum:\n",
    "                        minimum = values['travel_time']\n",
    "                        min_key = key\n",
    "            \n",
    "            \n",
    "            self.stop_id = min_key\n",
    "            self.traveled_time = self.traveled_time + minimum\n",
    "            self.current_time = self.current_time + minimum\n",
    "            \n",
    "            #print('\\n--------\\nBusao:', self.tentative_value[min_key]['linha'])\n",
    "            #print('Tentative_Values', self.tentative_value)\n",
    "            #print('Visited set', self.visited_set)\n",
    "            #print('Traveled Time: ',self.traveled_time)\n",
    "            if self.traveled_time > self.total_time_travel:\n",
    "            #    print('FINAL:', self.stop_id)\n",
    "                break\n",
    "            i=i+1\n",
    "    \n",
    "        \n",
    "            \n",
    "    def find_neighbours(self):\n",
    "        \"\"\"Given a stop, find neighbours and calculate travel time. \n",
    "        Two types of neighbours: connectionable and walkable\n",
    "        \"\"\"\n",
    "        #print('StopId: ', self.stop_id)\n",
    "        #pprint(self.current_time)\n",
    "        #get connection neighbours\n",
    "        linha_atual = 0\n",
    "        if len(self.visited_set) > 0:\n",
    "            linha_atual = self.tentative_value[self.stop_id]['linha']\n",
    "            # print('Linha Atual:', linha_atual)\n",
    "            \n",
    "        for conn_neigh_key, conn_neigh_value in self.MG.node[self.stop_id]['viagens'].items():\n",
    "            \n",
    "            #print('TripId', conn_neigh_key)\n",
    "            # get next travel time\n",
    "            # print(\"------\\nLine Name: \", conn_neigh_key, \"\\n\")\n",
    "            #print(conn_neigh_value)\n",
    "            travel_time =  (min(conn_neigh_value,\n",
    "                              key=lambda x: abs(x-self.current_time) if x-self.current_time<=0 else False) -\n",
    "                            self.current_time)\n",
    "            \"\"\"\n",
    "            if conn_neigh_key == linha_atual:\n",
    "                pass\n",
    "                print(\"----Current Line:\", travel_time)\n",
    "            else:\n",
    "                pass\n",
    "                print(\"Other Line:\", travel_time)\n",
    "            \"\"\"           \n",
    "            # have to be greater than current_time\n",
    "            if travel_time < 0:\n",
    "                continue\n",
    "            \n",
    "            # get time to next stop  \n",
    "            output = getpath(self.MG.edge[self.stop_id], conn_neigh_key)\n",
    "            if output == None:\n",
    "                continue\n",
    "            stop_id_next, trip_key, *rest = output\n",
    "            \n",
    "            if stop_id_next in self.visited_set:\n",
    "                continue\n",
    "            trip_time = self.MG.edge[self.stop_id][stop_id_next][trip_key]['attr']['tempo']\n",
    "            travel_time = travel_time + trip_time\n",
    "            \"\"\"\n",
    "            print(\"Trip Time: \", trip_time)\n",
    "            print(\"Total Time: \", travel_time)\n",
    "            print('Stop Next', stop_id_next, \"\\n\")\n",
    "            \"\"\"\n",
    "            # check travel time to next stop and replace if smaller\n",
    "            if stop_id_next in self.tentative_value:\n",
    "                if travel_time < self.tentative_value[stop_id_next]['travel_time']:\n",
    "                    self.tentative_value[stop_id_next] = {'travel_time': travel_time,\n",
    "                                                          'trip_key': trip_key,\n",
    "                                                          'previous_stop': self.stop_id,\n",
    "                                                        'linha': conn_neigh_key}\n",
    "            else:\n",
    "                self.tentative_value[stop_id_next] = {'travel_time': travel_time,\n",
    "                                                      'trip_key': trip_key,\n",
    "                                                      'previous_stop': self.stop_id,\n",
    "                                                     'linha': conn_neigh_key}\n",
    "   \n",
    "            #print(self.tentative_value)\n",
    "    \n",
    "        self.visited_set.append(self.stop_id)\n",
    "        \n",
    "        # get walkable neighbours\n",
    "        \n",
    "    def random_isochrone(self):\n",
    "        tt = 0\n",
    "        ot = 0\n",
    "        while 1:\n",
    "\n",
    "            linha_atual = 0\n",
    "\n",
    "            linhas = list(self.MG.node[self.stop_id]['viagens'].keys())\n",
    "\n",
    "            linhas_aleatorio = random.choice(linhas)\n",
    "\n",
    "            #print(\"Opcoes: \",vizinhos)\n",
    "\n",
    "            valores_linhas_aleatorio = (self.MG.node[self.stop_id]['viagens'][linhas_aleatorio])\n",
    "\n",
    "            travel_time =  (min(valores_linhas_aleatorio,\n",
    "                                  key=lambda x: abs(x-self.current_time) if x-self.current_time<=0 else False) -\n",
    "                                self.current_time)\n",
    "\n",
    "            # have to be greater than current_time\n",
    "            if travel_time < 0:\n",
    "                tt = tt + 1\n",
    "                if tt > 60:\n",
    "                    break\n",
    "                #print('travel_time')\n",
    "                continue\n",
    "\n",
    "            # get time to next stop  \n",
    "            output = getpath(self.MG.edge[self.stop_id], linhas_aleatorio)\n",
    "            if output == None:\n",
    "                #print('Stop Id: ', self.stop_id)\n",
    "                #print('Linha: ', linhas_aleatorio)\n",
    "                ot = ot + 1\n",
    "                if ot > 60:\n",
    "                    break\n",
    "                #print('output')\n",
    "                continue\n",
    "\n",
    "            stop_id_next, trip_key, *rest = output\n",
    "\n",
    "            trip_time = self.MG.edge[self.stop_id][stop_id_next][trip_key]['attr']['tempo']\n",
    "            travel_time = travel_time + trip_time\n",
    "\n",
    "            #print(\"Trip Time: \", trip_time)\n",
    "            #print(\"Total Time: \", travel_time)\n",
    "            #print('Stop Next', stop_id_next, \"\\n\")\n",
    "\n",
    "            self.visited_set.append(self.stop_id)\n",
    "\n",
    "            self.stop_id = stop_id_next\n",
    "            self.traveled_time = self.traveled_time + trip_time\n",
    "            self.current_time = self.current_time + trip_time\n",
    "\n",
    "            #print(\"Todos locais passados: \", self.visited_set)\n",
    "            #print(\"Atual: \",self.stop_id)\n",
    "            #print(\"Tempo Total: \",self.traveled_time)\n",
    "\n",
    "            if self.traveled_time > self.total_time_travel:\n",
    "                #print('FINAL:', self.stop_id)\n",
    "                break   \n",
    "        "
   ]
  },
  {
   "cell_type": "code",
   "execution_count": 52,
   "metadata": {
    "collapsed": false
   },
   "outputs": [
    {
     "data": {
      "text/plain": [
       "{'60016461': {0: {'attr': {'tempo': 102, 'trip_id': '8500-10-1'},\n",
       "   'id': '31982'},\n",
       "  1: {'attr': {'tempo': 102, 'trip_id': '8500-10-1'}, 'id': '31983'}},\n",
       " '614544': {0: {'attr': {'tempo': 92, 'trip_id': '978L-10-0'}, 'id': '31984'},\n",
       "  1: {'attr': {'tempo': 76, 'trip_id': '978L-10-1'}, 'id': '31985'},\n",
       "  2: {'attr': {'tempo': 92, 'trip_id': '978L-10-0'}, 'id': '31986'},\n",
       "  3: {'attr': {'tempo': 76, 'trip_id': '978L-10-1'}, 'id': '31987'}}}"
      ]
     },
     "execution_count": 52,
     "metadata": {},
     "output_type": "execute_result"
    }
   ],
   "source": [
    "MG.edge['614543']"
   ]
  },
  {
   "cell_type": "code",
   "execution_count": 55,
   "metadata": {
    "collapsed": false
   },
   "outputs": [
    {
     "name": "stdout",
     "output_type": "stream",
     "text": [
      "acabou\n"
     ]
    }
   ],
   "source": [
    "node_id = '60016886'\n",
    "current_time = 7\n",
    "walker = Walker(MG, node_id, travel_time=60, current_time=current_time)\n",
    "\n",
    "for num_rand_walks in range(100):\n",
    "    #print(num_rand_walks)\n",
    "    walker.random_isochrone()\n",
    "    walker.restart(current_time, node_id)\n",
    "\n",
    "\n",
    "print('acabou')"
   ]
  },
  {
   "cell_type": "code",
   "execution_count": null,
   "metadata": {
    "collapsed": false
   },
   "outputs": [],
   "source": [
    "\n",
    "\n"
   ]
  },
  {
   "cell_type": "code",
   "execution_count": null,
   "metadata": {
    "collapsed": false
   },
   "outputs": [],
   "source": []
  },
  {
   "cell_type": "code",
   "execution_count": 63,
   "metadata": {
    "collapsed": false
   },
   "outputs": [],
   "source": []
  },
  {
   "cell_type": "code",
   "execution_count": null,
   "metadata": {
    "collapsed": false
   },
   "outputs": [],
   "source": []
  },
  {
   "cell_type": "code",
   "execution_count": null,
   "metadata": {
    "collapsed": true
   },
   "outputs": [],
   "source": []
  },
  {
   "cell_type": "code",
   "execution_count": null,
   "metadata": {
    "collapsed": false
   },
   "outputs": [],
   "source": []
  },
  {
   "cell_type": "code",
   "execution_count": null,
   "metadata": {
    "collapsed": true
   },
   "outputs": [],
   "source": []
  }
 ],
 "metadata": {
  "anaconda-cloud": {},
  "kernelspec": {
   "display_name": "Python 3",
   "language": "python",
   "name": "python3"
  },
  "language_info": {
   "codemirror_mode": {
    "name": "ipython",
    "version": 3
   },
   "file_extension": ".py",
   "mimetype": "text/x-python",
   "name": "python",
   "nbconvert_exporter": "python",
   "pygments_lexer": "ipython3",
   "version": "3.5.2"
  }
 },
 "nbformat": 4,
 "nbformat_minor": 1
}
