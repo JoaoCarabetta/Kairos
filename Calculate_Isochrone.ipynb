{
 "cells": [
  {
   "cell_type": "code",
   "execution_count": 7,
   "metadata": {
    "collapsed": false
   },
   "outputs": [],
   "source": [
    "import networkx as nx\n",
    "import scripts.read_graph as rg\n",
    "import folium\n",
    "import random\n",
    "import plotly.plotly as py\n",
    "from plotly.graph_objs import *\n",
    "import math\n",
    "import time\n",
    "import numpy"
   ]
  },
  {
   "cell_type": "code",
   "execution_count": null,
   "metadata": {
    "collapsed": true
   },
   "outputs": [],
   "source": []
  },
  {
   "cell_type": "code",
   "execution_count": 8,
   "metadata": {
    "collapsed": false
   },
   "outputs": [],
   "source": [
    "MG = rg.read('graphs/sp_final.gexf')"
   ]
  },
  {
   "cell_type": "markdown",
   "metadata": {},
   "source": [
    "Não deixar o fera ficar entrando e saindo de busao"
   ]
  },
  {
   "cell_type": "code",
   "execution_count": 9,
   "metadata": {
    "collapsed": false
   },
   "outputs": [],
   "source": [
    "def getpath(nested_dict, value, prepath=()):\n",
    "    for k, v in nested_dict.items():\n",
    "        path = prepath + (k,)\n",
    "        if v == value: # found value\n",
    "            return path\n",
    "        elif hasattr(v, 'items'): # v is a dict\n",
    "            p = getpath(v, value, path) # recursive call\n",
    "            if p is not None:\n",
    "                return p"
   ]
  },
  {
   "cell_type": "code",
<<<<<<< HEAD
   "execution_count": 10,
   "metadata": {
    "collapsed": true
   },
   "outputs": [],
   "source": [
    "def get_distance(lon1, lat1, lon2, lat2):\n",
    "    \n",
    "    R = 6373.0\n",
    "\n",
    "    lat1 = math.radians(lat1)\n",
    "    lon1 = math.radians(lon1)\n",
    "    lat2 = math.radians(lat2)\n",
    "    lon2 = math.radians(lon2)\n",
    "\n",
    "    dlon = lon2 - lon1\n",
    "    dlat = lat2 - lat1\n",
    "\n",
    "    a = math.sin(dlat / 2)**2 + math.cos(lat1) * math.cos(lat2) * math.sin(dlon / 2)**2\n",
    "    c = 2 * math.atan2(math.sqrt(a), math.sqrt(1 - a))\n",
    "\n",
    "    distance = R * c\n",
    "    \n",
    "    return distance*1000.0 #em M, por isso multiplica por 1000.0\n",
    "\n",
    "#0.002 é uma caixa de 200-300m +-\n",
    "    "
   ]
  },
  {
   "cell_type": "code",
   "execution_count": 15,
=======
<<<<<<< HEAD
   "execution_count": 56,
=======
   "execution_count": 12,
>>>>>>> 71195ebdcf9aac767f9549a056a5abed6a584c7e
>>>>>>> 5d89b2c5dc986be7f1009c9d916f209a56b019c3
   "metadata": {
    "collapsed": false
   },
   "outputs": [],
   "source": [
    "class Walker():\n",
    "    \n",
    "    def __init__(self, graph, stop_id, travel_time, current_time):\n",
    "        self.MG = graph \n",
    "        self.stop_id = stop_id \n",
    "        self.total_time_travel = travel_time * 60 # minutos para segundos \n",
    "        self.traveled_time = 0 \n",
    "        self.visited_set = [] \n",
    "        self.tentative_value = {} \n",
    "        self.current_time = current_time * 60 * 60 # hora para segundo\n",
    "        self.walking_speed = 1 #em m/s\n",
    "        \n",
    "        self.calculate_location = lambda x: (MG.node[x]['location']['lat'], MG.node[x]['location']['long'])# tuple\n",
    "        self.current_location = self.calculate_location(stop_id)\n",
    "    \n",
    "    def restart(self, current_time, stop_id):\n",
    "        self.traveled_time = 0\n",
    "        self.current_time = current_time\n",
    "        self.stop_id = stop_id\n",
    "        \n",
    "    def look_around(self,maximum_dist):\n",
    "        '''\n",
    "        Look at current stop coordinates and find close stops\n",
    "        Receives a maximum distance (in degrees) and \n",
    "        returns a dictionary with close stops and distance (in meters) to each of them\n",
    "        '''\n",
    "        close_stops = {}\n",
    "        \n",
    "        long_max = self.MG.node[self.stop_id]['location']['long'] + maximum_dist\n",
    "        long_min = self.MG.node[self.stop_id]['location']['long'] - maximum_dist\n",
    "        \n",
    "        lat_max = self.MG.node[self.stop_id]['location']['lat'] + maximum_dist\n",
    "        lat_min = self.MG.node[self.stop_id]['location']['lat'] - maximum_dist\n",
    "        \n",
    "        for stops in self.MG.node.keys():\n",
    "            \n",
    "            if (self.MG.node[stops]['location']['long']<=long_max and\n",
    "                self.MG.node[stops]['location']['long']>=long_min and\n",
    "                self.MG.node[stops]['location']['lat']<=lat_max and\n",
    "                self.MG.node[stops]['location']['lat']>=lat_min):\n",
    "                \n",
    "                \n",
    "                close_stops[stops] = get_distance(\n",
    "                    self.MG.node[self.stop_id]['location']['long'],\n",
    "                    self.MG.node[self.stop_id]['location']['lat'],\n",
    "                    self.MG.node[stops]['location']['long'],\n",
    "                    self.MG.node[stops]['location']['lat'])\n",
    "\n",
    "        del close_stops[self.stop_id]\n",
    "        return(close_stops)\n",
    "    \n",
    "    \n",
    "    def build_map(self):\n",
    "        \n",
    "        stops = [self.MG.node[i] for i in self.visited_set]\n",
    "        COORD = (stops[0]['location']['lat'],stops[0]['location']['long']) # sp coordinates\n",
    "        \n",
    "        mapbox_access_token = 'pk.eyJ1IjoiY2hlbHNlYXBsb3RseSIsImEiOiJjaXFqeXVzdDkwMHFrZnRtOGtlMGtwcGs4In0.SLidkdBMEap9POJGIe1eGw' \n",
    "        \n",
    "        data = Data([\n",
    "            Scattermapbox(\n",
<<<<<<< HEAD
    "                lat=[s['location']['lat'] for s in stops[1:]],\n",
    "                lon=[s['location']['long'] for s in stops[1:]],\n",
    "                mode='markers',\n",
    "                marker=Marker(\n",
    "                    size=6,\n",
    "                    color=['rgb(253, 63, 0)' for i in range(len(stops[1:]))],\n",
    "                    opacity=0.7\n",
    "                ),\n",
    "                hoverinfo='text',\n",
    "                showlegend=False\n",
    "            ),\n",
    "            Scattermapbox(\n",
    "                lat=[stops[0]['location']['lat']],\n",
    "                lon=[stops[0]['location']['long'] ],\n",
    "                mode='markers',\n",
    "                marker=Marker(\n",
    "                    size=20,\n",
    "                    color=['rgb(51, 204, 51)' for i in range(len(stops[0]))],\n",
    "                    opacity=0.7\n",
    "                ),\n",
    "                hoverinfo='skip',\n",
    "                showlegend=False\n",
    "            )\n",
    "        ])\n",
    "        \n",
    "        layout = Layout(\n",
    "            autosize=True,\n",
    "            hovermode='closest',\n",
    "            width= 1100,\n",
    "            height=1000,\n",
=======
    "                lat=[s['location']['lat'] for s in stops],\n",
    "                lon=[s['location']['long'] for s in stops],\n",
    "                mode='markers',\n",
    "                marker=Marker(\n",
    "                    size=9\n",
    "                )\n",
    "            )\n",
    "        ])\n",
    "        layout = Layout(\n",
    "            autosize=True,\n",
    "            hovermode='closest',\n",
>>>>>>> 71195ebdcf9aac767f9549a056a5abed6a584c7e
    "            mapbox=dict(\n",
    "                accesstoken=mapbox_access_token,\n",
    "                bearing=0,\n",
    "                center=dict(\n",
    "                    lat=COORD[0],\n",
    "                    lon=COORD[1]\n",
    "                ),\n",
    "                pitch=0,\n",
<<<<<<< HEAD
    "                zoom=11\n",
=======
    "                zoom=10\n",
>>>>>>> 71195ebdcf9aac767f9549a056a5abed6a584c7e
    "            ),\n",
    "        )\n",
    "\n",
    "        fig = dict(data=data, layout=layout)\n",
    "        return fig\n",
    "    \n",
<<<<<<< HEAD
    "\n",
=======
<<<<<<< HEAD
=======
    "        \"\"\"\n",
    "        mapa = folium.Map(location=COORD, zoom_start=12)\n",
    "        \n",
    "        for i, stop in enumerate(stops[1:]):\n",
    "            \n",
    "            if i == 0:\n",
    "                color = 'black'\n",
    "                fill_color = 'red'\n",
    "                radius=5\n",
    "            elif i < len(self.visited_set):\n",
    "                fill_color = 'black'\n",
    "                color = 'black'\n",
    "                radius=1\n",
    "                \n",
    "\n",
    "            folium.RegularPolygonMarker(\n",
    "                location = [stop['location']['lat'],stop['location']['long']],\n",
    "                color=color,\n",
    "                fill_color=fill_color,\n",
    "                number_of_sides=100,\n",
    "                radius=radius,\n",
    "                ).add_to(mapa)\n",
    "\n",
    "        return(mapa)\n",
    "        \"\"\"\n",
>>>>>>> 71195ebdcf9aac767f9549a056a5abed6a584c7e
>>>>>>> 5d89b2c5dc986be7f1009c9d916f209a56b019c3
    "    def isochrone(self):\n",
    "        i=0\n",
    "        while 1:\n",
    "            ##print('\\n{}: '.format(i))\n",
    "            self.find_neighbours()\n",
    "\n",
    "            minimum, min_key = -1, 0\n",
    "            for key, values in self.tentative_value.items():\n",
    "                if key not in self.visited_set:\n",
    "                    if minimum == -1:\n",
    "                        minimum = values['travel_time']\n",
    "                        min_key = key\n",
    "                    elif values['travel_time'] < minimum:\n",
    "                        minimum = values['travel_time']\n",
    "                        min_key = key\n",
    "            \n",
    "            \n",
    "            self.stop_id = min_key\n",
    "            self.traveled_time = self.traveled_time + minimum\n",
    "            self.current_time = self.current_time + minimum\n",
    "            \n",
    "            ##print('\\n--------\\nBusao:', self.tentative_value[min_key]['linha'])\n",
    "            ##print('Tentative_Values', self.tentative_value)\n",
    "            ##print('Visited set', self.visited_set)\n",
    "            ##print('Traveled Time: ',self.traveled_time)\n",
    "            if self.traveled_time > self.total_time_travel:\n",
    "            #    #print('FINAL:', self.stop_id)\n",
    "                break\n",
    "            i=i+1\n",
    "    \n",
    "        \n",
    "            \n",
    "    def find_neighbours(self):\n",
    "        \"\"\"Given a stop, find neighbours and calculate travel time. \n",
    "        Two types of neighbours: connectionable and walkable\n",
    "        \"\"\"\n",
    "        ##print('StopId: ', self.stop_id)\n",
    "        #p#print(self.current_time)\n",
    "        #get connection neighbours\n",
    "        linha_atual = 0\n",
    "        if len(self.visited_set) > 0:\n",
    "            linha_atual = self.tentative_value[self.stop_id]['linha']\n",
    "            # #print('Linha Atual:', linha_atual)\n",
    "            \n",
    "        for conn_neigh_key, conn_neigh_value in self.MG.node[self.stop_id]['viagens'].items():\n",
    "            \n",
    "            ##print('TripId', conn_neigh_key)\n",
    "            # get next travel time\n",
    "            # #print(\"------\\nLine Name: \", conn_neigh_key, \"\\n\")\n",
    "            ##print(conn_neigh_value)\n",
    "            travel_time =  (min(conn_neigh_value,\n",
    "                              key=lambda x: abs(x-self.current_time) if x-self.current_time<=0 else False) -\n",
    "                            self.current_time)\n",
    "            \"\"\"\n",
    "            if conn_neigh_key == linha_atual:\n",
    "                pass\n",
    "                #print(\"----Current Line:\", travel_time)\n",
    "            else:\n",
    "                pass\n",
    "                #print(\"Other Line:\", travel_time)\n",
    "            \"\"\"           \n",
    "            # have to be greater than current_time\n",
    "            if travel_time < 0:\n",
    "                continue\n",
    "            \n",
    "            # get time to next stop  \n",
    "            output = getpath(self.MG.edge[self.stop_id], conn_neigh_key)\n",
    "            if output == None:\n",
    "                continue\n",
    "            stop_id_next, trip_key, *rest = output\n",
    "            \n",
    "            if stop_id_next in self.visited_set:\n",
    "                continue\n",
    "            trip_time = self.MG.edge[self.stop_id][stop_id_next][trip_key]['attr']['tempo']\n",
    "            travel_time = travel_time + trip_time\n",
    "            \"\"\"\n",
    "            #print(\"Trip Time: \", trip_time)\n",
    "            #print(\"Total Time: \", travel_time)\n",
    "            #print('Stop Next', stop_id_next, \"\\n\")\n",
    "            \"\"\"\n",
    "            # check travel time to next stop and replace if smaller\n",
    "            if stop_id_next in self.tentative_value:\n",
    "                if travel_time < self.tentative_value[stop_id_next]['travel_time']:\n",
    "                    self.tentative_value[stop_id_next] = {'travel_time': travel_time,\n",
    "                                                          'trip_key': trip_key,\n",
    "                                                          'previous_stop': self.stop_id,\n",
    "                                                        'linha': conn_neigh_key}\n",
    "            else:\n",
    "                self.tentative_value[stop_id_next] = {'travel_time': travel_time,\n",
    "                                                      'trip_key': trip_key,\n",
    "                                                      'previous_stop': self.stop_id,\n",
    "                                                     'linha': conn_neigh_key}\n",
    "   \n",
    "            ##print(self.tentative_value)\n",
    "    \n",
    "        self.visited_set.append(self.stop_id)\n",
    "        \n",
    "        # get walkable neighbours\n",
    "        \n",
    "    def random_isochrone(self):\n",
    "        tt = 0\n",
    "        ot = 0\n",
    "        while 1:\n",
    "            \n",
    "            ###Olha todas as linhas e stops em uma caixa ao redor\n",
    "            ###Depois disso, olha as linhas na stop atual\n",
    "            ###A seguir, junta todas as stops e linhas em um dicionario só\n",
    "            \n",
    "            close_stops = self.look_around(0.002)\n",
    "            linhas_andando = []\n",
    "            stops_linhas_andando = {}\n",
    "            linhas_na_stop = {}\n",
    "            \n",
    "            for key in close_stops.keys():\n",
    "                stops_linhas_andando[key] = []\n",
    "                \n",
    "            for key in close_stops.keys():\n",
    "                #print (key)\n",
    "                stops_linhas_andando[key] = stops_linhas_andando[key] + (list(self.MG.node[key]['viagens'].keys()))\n",
    "            \n",
    "            linhas_na_stop[self.stop_id] = list(self.MG.node[self.stop_id]['viagens'].keys())\n",
    "                \n",
    "            linhas_totais = {**linhas_na_stop, **stops_linhas_andando}\n",
    "\n",
    "            ##print(\"Linhas na stop: \", linhas_na_stop)\n",
    "            ##print(\"Linhas andando: \", stops_linhas_andando)\n",
    "            ##print(\"Linhas totais: \", linhas_totais)\n",
    "            \n",
    "            ### A partir do total de linhas, da peso para cada stop proxima conforme o numero de linhas em cada\n",
    "            \n",
    "            count_linhas = []\n",
    "            for key in linhas_totais.keys():\n",
    "                count_linhas.append(len(linhas_totais[key]))\n",
    "            count_total_linhas = sum(count_linhas)\n",
    "            \n",
    "            pesos = []\n",
    "            \n",
    "            for key in linhas_totais.keys():\n",
    "                pesos.append(len(linhas_totais[key])/count_total_linhas)\n",
    "                \n",
    "            ###Escolhe uma stop conforme o peso e em seguida uma linha aleatoria\n",
    "            \n",
    "            stop_aleatoria = numpy.random.choice(list(linhas_totais.keys()), p=pesos)\n",
    "            linhas_aleatorio = numpy.random.choice(linhas_totais[stop_aleatoria])\n",
    "            \n",
    "            ##Se andou ate outra stop, adiciona o tempo gasto andando e atualiza a stop\n",
    "            if stop_aleatoria != self.stop_id:\n",
    "                \n",
    "                distancia = close_stops[stop_aleatoria]\n",
    "                tempo_andando = distancia/self.walking_speed\n",
    "                \n",
    "                tempo_andando = close_stops[stop_aleatoria]/self.walking_speed\n",
    "                self.stop_id = stop_aleatoria\n",
    "                self.traveled_time = self.traveled_time + tempo_andando\n",
    "                self.current_time = self.current_time + tempo_andando\n",
    "                \n",
    "            ### Pega todos os horarios da linha escolhida e a seguir quando vai passar o proximo busao/metro\n",
    "        \n",
    "            valores_linhas_aleatorio = (self.MG.node[self.stop_id]['viagens'][linhas_aleatorio])\n",
    "\n",
    "            travel_time =  (min(valores_linhas_aleatorio,\n",
    "                                  key=lambda x: abs(x-self.current_time) if x-self.current_time<=0 else False) -\n",
    "                                self.current_time)\n",
    "\n",
    "            # have to be greater than current_time\n",
    "            if travel_time < 0:\n",
    "                tt = tt + 1\n",
    "                if tt > 60:\n",
    "                    break\n",
    "                ##print('travel_time')\n",
    "                continue\n",
    "\n",
    "            # get time to next stop  \n",
    "            output = getpath(self.MG.edge[self.stop_id], linhas_aleatorio)\n",
    "            if output == None:\n",
    "                ##print('Stop Id: ', self.stop_id)\n",
    "                ##print('Linha: ', linhas_aleatorio)\n",
    "                ot = ot + 1\n",
    "                if ot > 60:\n",
    "                    break\n",
    "                ##print('output')\n",
    "                continue\n",
    "\n",
    "            stop_id_next, trip_key, *rest = output\n",
    "\n",
    "            trip_time = self.MG.edge[self.stop_id][stop_id_next][trip_key]['attr']['tempo']\n",
    "            travel_time = travel_time + trip_time\n",
    "\n",
    "            ##print(\"Trip Time: \", trip_time)\n",
    "            ##print(\"Total Time: \", travel_time)\n",
    "            ##print('Stop Next', stop_id_next, \"\\n\")\n",
    "\n",
    "            self.visited_set.append(self.stop_id)\n",
    "\n",
    "            self.stop_id = stop_id_next\n",
    "            self.traveled_time = self.traveled_time + trip_time\n",
    "            self.current_time = self.current_time + trip_time\n",
    "\n",
    "            ##print(\"Todos locais passados: \", self.visited_set)\n",
    "            ##print(\"Atual: \",self.stop_id)\n",
    "            ##print(\"Tempo Total: \",self.traveled_time)\n",
    "\n",
    "            if self.traveled_time > self.total_time_travel:\n",
    "                ##print('FINAL:', self.stop_id)\n",
    "                break   \n",
    "        "
   ]
  },
  {
   "cell_type": "code",
<<<<<<< HEAD
   "execution_count": 16,
=======
<<<<<<< HEAD
   "execution_count": 57,
=======
   "execution_count": 13,
>>>>>>> 71195ebdcf9aac767f9549a056a5abed6a584c7e
>>>>>>> 5d89b2c5dc986be7f1009c9d916f209a56b019c3
   "metadata": {
    "collapsed": false
   },
   "outputs": [
    {
     "data": {
      "text/html": [
<<<<<<< HEAD
       "<iframe id=\"igraph\" scrolling=\"no\" style=\"border:none;\" seamless=\"seamless\" src=\"https://plot.ly/~JoaoLuizCarabetta/28.embed\" height=\"1000px\" width=\"1100px\"></iframe>"
=======
       "<iframe id=\"igraph\" scrolling=\"no\" style=\"border:none;\" seamless=\"seamless\" src=\"https://plot.ly/~JoaoLuizCarabetta/28.embed\" height=\"525px\" width=\"100%\"></iframe>"
>>>>>>> 71195ebdcf9aac767f9549a056a5abed6a584c7e
      ],
      "text/plain": [
       "<plotly.tools.PlotlyDisplay object>"
      ]
     },
<<<<<<< HEAD
     "execution_count": 16,
=======
<<<<<<< HEAD
     "execution_count": 57,
=======
     "execution_count": 13,
>>>>>>> 71195ebdcf9aac767f9549a056a5abed6a584c7e
>>>>>>> 5d89b2c5dc986be7f1009c9d916f209a56b019c3
     "metadata": {},
     "output_type": "execute_result"
    }
   ],
   "source": [
    "node_id = '60016886'\n",
    "current_time = 7\n",
    "walker = Walker(MG, node_id, travel_time=60, current_time=current_time)\n",
    "\n",
    "for num_rand_walks in range(10):\n",
    "    ##print(num_rand_walks)\n",
    "    walker.random_isochrone()\n",
    "    walker.restart(current_time, node_id)\n",
    "\n",
    "fig = walker.build_map()\n",
    "py.iplot(fig, filename='Multiple Mapbox', validate=False)"
   ]
  },
  {
   "cell_type": "code",
   "execution_count": null,
   "metadata": {
    "collapsed": false
   },
   "outputs": [],
   "source": [
    "\n",
    "\n"
   ]
  },
  {
   "cell_type": "code",
   "execution_count": null,
   "metadata": {
    "collapsed": false
   },
   "outputs": [],
   "source": []
  },
  {
   "cell_type": "code",
<<<<<<< HEAD
   "execution_count": null,
   "metadata": {
    "collapsed": false
   },
   "outputs": [],
   "source": []
=======
<<<<<<< HEAD
   "execution_count": null,
   "metadata": {
    "collapsed": false
   },
   "outputs": [],
   "source": []
=======
   "execution_count": 52,
   "metadata": {
    "collapsed": false
   },
   "outputs": [
    {
     "data": {
      "text/plain": [
       "{'60016461': {0: {'attr': {'tempo': 102, 'trip_id': '8500-10-1'},\n",
       "   'id': '31982'},\n",
       "  1: {'attr': {'tempo': 102, 'trip_id': '8500-10-1'}, 'id': '31983'}},\n",
       " '614544': {0: {'attr': {'tempo': 92, 'trip_id': '978L-10-0'}, 'id': '31984'},\n",
       "  1: {'attr': {'tempo': 76, 'trip_id': '978L-10-1'}, 'id': '31985'},\n",
       "  2: {'attr': {'tempo': 92, 'trip_id': '978L-10-0'}, 'id': '31986'},\n",
       "  3: {'attr': {'tempo': 76, 'trip_id': '978L-10-1'}, 'id': '31987'}}}"
      ]
     },
     "execution_count": 52,
     "metadata": {},
     "output_type": "execute_result"
    }
   ],
   "source": [
    "MG.edge['614543']"
   ]
>>>>>>> 71195ebdcf9aac767f9549a056a5abed6a584c7e
>>>>>>> 5d89b2c5dc986be7f1009c9d916f209a56b019c3
  },
  {
   "cell_type": "code",
   "execution_count": 63,
   "metadata": {
    "collapsed": false
   },
   "outputs": [],
   "source": []
  },
  {
   "cell_type": "code",
   "execution_count": null,
   "metadata": {
    "collapsed": false
   },
   "outputs": [],
   "source": []
  },
  {
   "cell_type": "code",
   "execution_count": null,
   "metadata": {
    "collapsed": true
   },
   "outputs": [],
   "source": []
  },
  {
   "cell_type": "code",
   "execution_count": null,
   "metadata": {
    "collapsed": false
   },
   "outputs": [],
   "source": []
  },
  {
   "cell_type": "code",
   "execution_count": null,
   "metadata": {
    "collapsed": true
   },
   "outputs": [],
   "source": []
  }
 ],
 "metadata": {
  "anaconda-cloud": {},
  "kernelspec": {
   "display_name": "Python 3",
   "language": "python",
   "name": "python3"
  },
  "language_info": {
   "codemirror_mode": {
    "name": "ipython",
    "version": 3
   },
   "file_extension": ".py",
   "mimetype": "text/x-python",
   "name": "python",
   "nbconvert_exporter": "python",
   "pygments_lexer": "ipython3",
   "version": "3.5.2"
  }
 },
 "nbformat": 4,
 "nbformat_minor": 1
}
