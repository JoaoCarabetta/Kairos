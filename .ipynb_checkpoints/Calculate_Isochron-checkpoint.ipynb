{
 "cells": [
  {
   "cell_type": "code",
   "execution_count": 108,
   "metadata": {
    "collapsed": false
   },
   "outputs": [],
   "source": [
    "import networkx as nx\n",
    "import scripts.read_graph as rg\n",
    "import folium"
   ]
  },
  {
   "cell_type": "code",
   "execution_count": 4,
   "metadata": {
    "collapsed": true
   },
   "outputs": [],
   "source": [
    "def read(path):\n",
    "\n",
    "    MG = nx.read_gexf(path)\n",
    "\n",
    "    for node in MG.nodes(data=True):\n",
    "        for key, value in MG.edge[node[0]].items():\n",
    "            for k, v in value.items():\n",
    "                if type(v['attr']) == str:\n",
    "                    MG.edge[node[0]][key][k]['attr'] = ast.literal_eval(v['attr'])\n",
    "\n",
    "    for node in MG.nodes(data=True):\n",
    "        if isinstance(MG.node[node[0]]['location'], str):\n",
    "            MG.node[node[0]]['location'] = ast.literal_eval(MG.node[node[0]]['location'])\n",
    "            if not isinstance(MG.node[node[0]]['location'], dict):\n",
    "                print('NAO FUNCIONA')\n",
    "                break\n",
    "        if len(node[1]) == 3:\n",
    "            if type(MG.node[node[0]]['viagens']) == str:\n",
    "                MG.node[node[0]]['viagens'] = ast.literal_eval(MG.node[node[0]]['viagens'])\n",
    "\n",
    "    return MG"
   ]
  },
  {
   "cell_type": "code",
   "execution_count": 9,
   "metadata": {
    "collapsed": false
   },
   "outputs": [],
   "source": [
    "MG = rg.read('graphs/sp_final.gexf')"
   ]
  },
  {
   "cell_type": "markdown",
   "metadata": {},
   "source": [
    "Não deixar o fera ficar entrando e saindo de busao"
   ]
  },
  {
   "cell_type": "code",
   "execution_count": 13,
   "metadata": {
    "collapsed": false
   },
   "outputs": [],
   "source": [
    "def getpath(nested_dict, value, prepath=()):\n",
    "    for k, v in nested_dict.items():\n",
    "        path = prepath + (k,)\n",
    "        if v == value: # found value\n",
    "            return path\n",
    "        elif hasattr(v, 'items'): # v is a dict\n",
    "            p = getpath(v, value, path) # recursive call\n",
    "            if p is not None:\n",
    "                return p"
   ]
  },
  {
   "cell_type": "code",
   "execution_count": 129,
   "metadata": {
    "collapsed": false
   },
   "outputs": [],
   "source": [
    "class Walker():\n",
    "    \n",
    "    def __init__(self, graph, stop_id, travel_time, current_time):\n",
    "        self.MG = graph \n",
    "        self.stop_id = stop_id \n",
    "        self.total_time_travel = travel_time * 60 # minutos para segundos \n",
    "        self.traveled_time = 0 \n",
    "        self.visited_set = [] \n",
    "        self.tentative_value = {} \n",
    "        self.current_time = current_time * 60 * 60 # hora para segundo \n",
    "        \n",
    "        self.calculate_location = lambda x: (MG.node[x]['location']['lat'], MG.node[x]['location']['long'])# tuple\n",
    "        self.current_location = self.calculate_location(stop_id)\n",
    "    \n",
    "    def build_map(self):\n",
    "    \n",
    "        stops = [self.MG.node[i] for i in self.visited_set]\n",
    "        COORD = (stops[0]['location']['lat'],stops[0]['location']['long']) # sp coordinates\n",
    "        mapa = folium.Map(location=COORD, zoom_start=12)\n",
    "\n",
    "        for i, stop in enumerate(stops[1:]):\n",
    "            \n",
    "            if i == 0:\n",
    "                color = '#ff0000'\n",
    "                radius=5\n",
    "            else:\n",
    "                color = '#45647d'\n",
    "                radius=1\n",
    "\n",
    "            folium.RegularPolygonMarker(\n",
    "                location = [stop['location']['lat'],stop['location']['long']],\n",
    "                fill_color=color,\n",
    "                number_of_sides=100,\n",
    "                radius=radius,\n",
    "                ).add_to(mapa)\n",
    "        \n",
    "        return(mapa)\n",
    "    \n",
    "    \n",
    "    def isochrone(self):\n",
    "        i=0\n",
    "        while 1:\n",
    "            #print('\\n{}: '.format(i))\n",
    "            self.find_neighbours()\n",
    "\n",
    "            minimum, min_key = -1, 0\n",
    "            for key, values in self.tentative_value.items():\n",
    "                if key not in self.visited_set:\n",
    "                    if minimum == -1:\n",
    "                        minimum = values['travel_time']\n",
    "                        min_key = key\n",
    "                    elif values['travel_time'] < minimum:\n",
    "                        minimum = values['travel_time']\n",
    "                        min_key = key\n",
    "            \n",
    "            \n",
    "            self.stop_id = min_key\n",
    "            self.traveled_time = self.traveled_time + minimum\n",
    "            self.current_time = self.current_time + minimum\n",
    "            \n",
    "            #print('\\n--------\\nBusao:', self.tentative_value[min_key]['linha'])\n",
    "            #print('Tentative_Values', self.tentative_value)\n",
    "            #print('Visited set', self.visited_set)\n",
    "            #print('Traveled Time: ',self.traveled_time)\n",
    "            if self.traveled_time > self.total_time_travel:\n",
    "            #    print('FINAL:', self.stop_id)\n",
    "                break\n",
    "            i=i+1\n",
    "            \n",
    "    def find_neighbours(self):\n",
    "        \"\"\"Given a stop, find neighbours and calculate travel time. \n",
    "        Two types of neighbours: connectionable and walkable\n",
    "        \"\"\"\n",
    "        #print('StopId: ', self.stop_id)\n",
    "        #pprint(self.current_time)\n",
    "        # get connection neighbours\n",
    "        linha_atual = 0\n",
    "        if len(self.visited_set) > 0:\n",
    "            linha_atual = self.tentative_value[self.stop_id]['linha']\n",
    "            # print('Linha Atual:', linha_atual)\n",
    "            \n",
    "        for conn_neigh_key, conn_neigh_value in self.MG.node[self.stop_id]['viagens'].items():\n",
    "            \n",
    "            #print('TripId', conn_neigh_key)\n",
    "            # get next travel time\n",
    "            # print(\"------\\nLine Name: \", conn_neigh_key, \"\\n\")\n",
    "            #print(conn_neigh_value)\n",
    "            travel_time =  (min(conn_neigh_value,\n",
    "                              key=lambda x: abs(x-self.current_time) if x-self.current_time<=0 else False) -\n",
    "                            self.current_time)\n",
    "            \"\"\"\n",
    "            if conn_neigh_key == linha_atual:\n",
    "                pass\n",
    "                print(\"----Current Line:\", travel_time)\n",
    "            else:\n",
    "                pass\n",
    "                print(\"Other Line:\", travel_time)\n",
    "            \"\"\"           \n",
    "            # have to be greater than current_time\n",
    "            if travel_time < 0:\n",
    "                continue\n",
    "            \n",
    "            # get time to next stop  \n",
    "            output = getpath(self.MG.edge[self.stop_id], conn_neigh_key)\n",
    "            if output == None:\n",
    "                continue\n",
    "            stop_id_next, trip_key, *rest = output\n",
    "            \n",
    "            if stop_id_next in self.visited_set:\n",
    "                continue\n",
    "            trip_time = self.MG.edge[self.stop_id][stop_id_next][trip_key]['attr']['tempo']\n",
    "            travel_time = travel_time + trip_time\n",
    "            \"\"\"\n",
    "            print(\"Trip Time: \", trip_time)\n",
    "            print(\"Total Time: \", travel_time)\n",
    "            print('Stop Next', stop_id_next, \"\\n\")\n",
    "            \"\"\"\n",
    "            # check travel time to next stop and replace if smaller\n",
    "            if stop_id_next in self.tentative_value:\n",
    "                if travel_time < self.tentative_value[stop_id_next]['travel_time']:\n",
    "                    self.tentative_value[stop_id_next] = {'travel_time': travel_time,\n",
    "                                                          'trip_key': trip_key,\n",
    "                                                          'previous_stop': self.stop_id,\n",
    "                                                        'linha': conn_neigh_key}\n",
    "            else:\n",
    "                self.tentative_value[stop_id_next] = {'travel_time': travel_time,\n",
    "                                                      'trip_key': trip_key,\n",
    "                                                      'previous_stop': self.stop_id,\n",
    "                                                     'linha': conn_neigh_key}\n",
    "   \n",
    "            #print(self.tentative_value)\n",
    "    \n",
    "        self.visited_set.append(self.stop_id)\n",
    "        \n",
    "        # get walkable neighbours\n",
    "        "
   ]
  },
  {
   "cell_type": "code",
   "execution_count": 133,
   "metadata": {
    "collapsed": false
   },
   "outputs": [],
   "source": [
    "node_id = '706304'\n",
    "walker = Walker(MG, node_id, travel_time=60, current_time=7)\n",
    "walker.isochrone()\n",
    "lsita = [i for i in walker.tentative_value.keys()]"
   ]
  },
  {
   "cell_type": "code",
   "execution_count": null,
   "metadata": {
    "collapsed": false
   },
   "outputs": [],
   "source": []
  },
  {
   "cell_type": "code",
   "execution_count": null,
   "metadata": {
    "collapsed": false
   },
   "outputs": [],
   "source": []
  },
  {
   "cell_type": "code",
   "execution_count": null,
   "metadata": {
    "collapsed": true
   },
   "outputs": [],
   "source": []
  },
  {
   "cell_type": "code",
   "execution_count": null,
   "metadata": {
    "collapsed": false
   },
   "outputs": [],
   "source": []
  },
  {
   "cell_type": "code",
   "execution_count": null,
   "metadata": {
    "collapsed": true
   },
   "outputs": [],
   "source": []
  }
 ],
 "metadata": {
  "anaconda-cloud": {},
  "kernelspec": {
   "display_name": "Python 3",
   "language": "python",
   "name": "python3"
  },
  "language_info": {
   "codemirror_mode": {
    "name": "ipython",
    "version": 3
   },
   "file_extension": ".py",
   "mimetype": "text/x-python",
   "name": "python",
   "nbconvert_exporter": "python",
   "pygments_lexer": "ipython3",
   "version": "3.5.2"
  }
 },
 "nbformat": 4,
 "nbformat_minor": 1
}
