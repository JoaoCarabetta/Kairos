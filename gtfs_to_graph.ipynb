{
 "cells": [
  {
   "cell_type": "code",
   "execution_count": 2,
   "metadata": {
    "collapsed": true,
    "slideshow": {
     "slide_type": "-"
    }
   },
   "outputs": [],
   "source": [
    "import networkx as nx\n",
    "import sqlite3\n",
    "import pandas as pd\n",
    "\n",
    "conn = sqlite3.connect('/Users/Admin/Documents/Projects/Kairos/main/data/GTFS.db')"
   ]
  },
  {
   "cell_type": "code",
   "execution_count": null,
   "metadata": {
    "collapsed": false
   },
   "outputs": [],
   "source": []
  },
  {
   "cell_type": "code",
   "execution_count": 3,
   "metadata": {
    "collapsed": true
   },
   "outputs": [],
   "source": [
    "MG = nx.MultiDiGraph() # initialise Graph"
   ]
  },
  {
   "cell_type": "code",
   "execution_count": 4,
   "metadata": {
    "collapsed": true
   },
   "outputs": [],
   "source": [
    "## Add Nodes"
   ]
  },
  {
   "cell_type": "code",
   "execution_count": 23,
   "metadata": {
    "collapsed": false
   },
   "outputs": [
    {
     "data": {
      "text/html": [
       "<div>\n",
       "<table border=\"1\" class=\"dataframe\">\n",
       "  <thead>\n",
       "    <tr style=\"text-align: right;\">\n",
       "      <th></th>\n",
       "      <th>stop_id</th>\n",
       "      <th>stop_name</th>\n",
       "      <th>stop_desc</th>\n",
       "      <th>stop_lat</th>\n",
       "      <th>stop_lon</th>\n",
       "      <th>zone_id</th>\n",
       "      <th>stop_url</th>\n",
       "      <th>stop_code</th>\n",
       "      <th>stop_street</th>\n",
       "      <th>stop_city</th>\n",
       "      <th>stop_region</th>\n",
       "      <th>stop_postcode</th>\n",
       "      <th>stop_country</th>\n",
       "      <th>location_type</th>\n",
       "      <th>parent_station</th>\n",
       "      <th>stop_timezone</th>\n",
       "    </tr>\n",
       "  </thead>\n",
       "  <tbody>\n",
       "    <tr>\n",
       "      <th>0</th>\n",
       "      <td>18848</td>\n",
       "      <td>Clínicas</td>\n",
       "      <td>None</td>\n",
       "      <td>-23.55419</td>\n",
       "      <td>-46.670723</td>\n",
       "      <td>None</td>\n",
       "      <td>None</td>\n",
       "      <td>None</td>\n",
       "      <td>None</td>\n",
       "      <td>None</td>\n",
       "      <td>None</td>\n",
       "      <td>None</td>\n",
       "      <td>None</td>\n",
       "      <td>None</td>\n",
       "      <td>None</td>\n",
       "      <td>None</td>\n",
       "    </tr>\n",
       "  </tbody>\n",
       "</table>\n",
       "</div>"
      ],
      "text/plain": [
       "  stop_id stop_name stop_desc  stop_lat   stop_lon zone_id stop_url stop_code  \\\n",
       "0   18848  Clínicas      None -23.55419 -46.670723    None     None      None   \n",
       "\n",
       "  stop_street stop_city stop_region stop_postcode stop_country location_type  \\\n",
       "0        None      None        None          None         None          None   \n",
       "\n",
       "  parent_station stop_timezone  \n",
       "0           None          None  "
      ]
     },
     "execution_count": 23,
     "metadata": {},
     "output_type": "execute_result"
    }
   ],
   "source": [
    "stops = pd.read_sql_query('SELECT * FROM gtfs_stops', conn)\n",
    "stops.head(1)"
   ]
  },
  {
   "cell_type": "code",
   "execution_count": 6,
   "metadata": {
    "collapsed": true
   },
   "outputs": [],
   "source": [
    "for i, row in stops.iterrows():\n",
    "    MG.add_node(row['stop_id'], location={'lat': row['stop_lat'], 'long': row['stop_lon']})"
   ]
  },
  {
   "cell_type": "code",
   "execution_count": null,
   "metadata": {
    "collapsed": true
   },
   "outputs": [],
   "source": []
  },
  {
   "cell_type": "markdown",
   "metadata": {
    "collapsed": true
   },
   "source": [
    "## Add Edges"
   ]
  },
  {
   "cell_type": "code",
   "execution_count": 8,
   "metadata": {
    "collapsed": true
   },
   "outputs": [],
   "source": [
    "def unicode_to_seconds(a):\n",
    "    a = map(int, a.split(':'))\n",
    "    return a[0] * 3600 + a[1] * 60 + a[2]"
   ]
  },
  {
   "cell_type": "code",
   "execution_count": 24,
   "metadata": {
    "collapsed": false
   },
   "outputs": [
    {
     "data": {
      "text/html": [
       "<div>\n",
       "<table border=\"1\" class=\"dataframe\">\n",
       "  <thead>\n",
       "    <tr style=\"text-align: right;\">\n",
       "      <th></th>\n",
       "      <th>trip_id</th>\n",
       "      <th>arrival_time</th>\n",
       "      <th>departure_time</th>\n",
       "      <th>stop_id</th>\n",
       "      <th>stop_sequence</th>\n",
       "      <th>stop_headsign</th>\n",
       "      <th>pickup_type</th>\n",
       "      <th>drop_off_type</th>\n",
       "      <th>shape_dist_traveled</th>\n",
       "      <th>timepoint</th>\n",
       "      <th>arrival_time_seconds</th>\n",
       "      <th>departure_time_seconds</th>\n",
       "    </tr>\n",
       "  </thead>\n",
       "  <tbody>\n",
       "    <tr>\n",
       "      <th>0</th>\n",
       "      <td>1012-10-0</td>\n",
       "      <td>03:40:00</td>\n",
       "      <td>03:40:00</td>\n",
       "      <td>301708</td>\n",
       "      <td>1</td>\n",
       "      <td>None</td>\n",
       "      <td>None</td>\n",
       "      <td>None</td>\n",
       "      <td>None</td>\n",
       "      <td>None</td>\n",
       "      <td>13200</td>\n",
       "      <td>13200</td>\n",
       "    </tr>\n",
       "  </tbody>\n",
       "</table>\n",
       "</div>"
      ],
      "text/plain": [
       "     trip_id arrival_time departure_time stop_id  stop_sequence stop_headsign  \\\n",
       "0  1012-10-0     03:40:00       03:40:00  301708              1          None   \n",
       "\n",
       "  pickup_type drop_off_type shape_dist_traveled timepoint  \\\n",
       "0        None          None                None      None   \n",
       "\n",
       "   arrival_time_seconds  departure_time_seconds  \n",
       "0                 13200                   13200  "
      ]
     },
     "execution_count": 24,
     "metadata": {},
     "output_type": "execute_result"
    }
   ],
   "source": [
    "stops_time = pd.read_sql_query('SELECT * FROM gtfs_stop_times', conn)\n",
    "stops_time.head(1)"
   ]
  },
  {
   "cell_type": "code",
   "execution_count": null,
   "metadata": {
    "collapsed": true
   },
   "outputs": [],
   "source": []
  },
  {
   "cell_type": "code",
   "execution_count": 10,
   "metadata": {
    "collapsed": true
   },
   "outputs": [],
   "source": [
    "for i, row in stops_time.iterrows():\n",
    "    \n",
    "    try:\n",
    "        partida, chegada = stops_time.iloc[i], stops_time.iloc[i + 1]\n",
    "    except:\n",
    "        break\n",
    "    if chegada['trip_id'] == partida['trip_id']:\n",
    "        MG.add_edge(partida['stop_id'], chegada['stop_id'], \n",
    "                    attr = {'tempo': chegada['departure_time_seconds']-partida['arrival_time_seconds'],\n",
    "                      'trip_id': chegada['trip_id']}\n",
    "        )"
   ]
  },
  {
   "cell_type": "markdown",
   "metadata": {},
   "source": [
    "## Add frequency"
   ]
  },
  {
   "cell_type": "code",
   "execution_count": 13,
   "metadata": {
    "collapsed": false
   },
   "outputs": [],
   "source": [
    "frequencies = pd.read_sql_query('SELECT * FROM gtfs_frequencies', conn)\n"
   ]
  },
  {
   "cell_type": "code",
   "execution_count": null,
   "metadata": {
    "collapsed": false
   },
   "outputs": [],
   "source": []
  },
  {
   "cell_type": "code",
   "execution_count": 116,
   "metadata": {
    "collapsed": false
   },
   "outputs": [
    {
     "data": {
      "text/html": [
       "<div>\n",
       "<table border=\"1\" class=\"dataframe\">\n",
       "  <thead>\n",
       "    <tr style=\"text-align: right;\">\n",
       "      <th></th>\n",
       "      <th>trip_id</th>\n",
       "      <th>start_time</th>\n",
       "      <th>end_time</th>\n",
       "      <th>headway_secs</th>\n",
       "      <th>start_time_seconds</th>\n",
       "      <th>end_time_seconds</th>\n",
       "    </tr>\n",
       "  </thead>\n",
       "  <tbody>\n",
       "    <tr>\n",
       "      <th>0</th>\n",
       "      <td>1012-10-0</td>\n",
       "      <td>03:00:00</td>\n",
       "      <td>03:59:00</td>\n",
       "      <td>1800</td>\n",
       "      <td>10800</td>\n",
       "      <td>14340</td>\n",
       "    </tr>\n",
       "    <tr>\n",
       "      <th>1</th>\n",
       "      <td>1012-10-0</td>\n",
       "      <td>04:00:00</td>\n",
       "      <td>04:59:00</td>\n",
       "      <td>420</td>\n",
       "      <td>14400</td>\n",
       "      <td>17940</td>\n",
       "    </tr>\n",
       "    <tr>\n",
       "      <th>2</th>\n",
       "      <td>1012-10-0</td>\n",
       "      <td>05:00:00</td>\n",
       "      <td>05:59:00</td>\n",
       "      <td>420</td>\n",
       "      <td>18000</td>\n",
       "      <td>21540</td>\n",
       "    </tr>\n",
       "    <tr>\n",
       "      <th>3</th>\n",
       "      <td>1012-10-0</td>\n",
       "      <td>06:00:00</td>\n",
       "      <td>06:59:00</td>\n",
       "      <td>480</td>\n",
       "      <td>21600</td>\n",
       "      <td>25140</td>\n",
       "    </tr>\n",
       "    <tr>\n",
       "      <th>4</th>\n",
       "      <td>1012-10-0</td>\n",
       "      <td>07:00:00</td>\n",
       "      <td>07:59:00</td>\n",
       "      <td>420</td>\n",
       "      <td>25200</td>\n",
       "      <td>28740</td>\n",
       "    </tr>\n",
       "    <tr>\n",
       "      <th>5</th>\n",
       "      <td>1012-10-0</td>\n",
       "      <td>08:00:00</td>\n",
       "      <td>08:59:00</td>\n",
       "      <td>480</td>\n",
       "      <td>28800</td>\n",
       "      <td>32340</td>\n",
       "    </tr>\n",
       "    <tr>\n",
       "      <th>6</th>\n",
       "      <td>1012-10-0</td>\n",
       "      <td>09:00:00</td>\n",
       "      <td>09:59:00</td>\n",
       "      <td>420</td>\n",
       "      <td>32400</td>\n",
       "      <td>35940</td>\n",
       "    </tr>\n",
       "    <tr>\n",
       "      <th>7</th>\n",
       "      <td>1012-10-0</td>\n",
       "      <td>10:00:00</td>\n",
       "      <td>10:59:00</td>\n",
       "      <td>480</td>\n",
       "      <td>36000</td>\n",
       "      <td>39540</td>\n",
       "    </tr>\n",
       "    <tr>\n",
       "      <th>8</th>\n",
       "      <td>1012-10-0</td>\n",
       "      <td>11:00:00</td>\n",
       "      <td>11:59:00</td>\n",
       "      <td>420</td>\n",
       "      <td>39600</td>\n",
       "      <td>43140</td>\n",
       "    </tr>\n",
       "    <tr>\n",
       "      <th>9</th>\n",
       "      <td>1012-10-0</td>\n",
       "      <td>12:00:00</td>\n",
       "      <td>12:59:00</td>\n",
       "      <td>480</td>\n",
       "      <td>43200</td>\n",
       "      <td>46740</td>\n",
       "    </tr>\n",
       "    <tr>\n",
       "      <th>10</th>\n",
       "      <td>1012-10-0</td>\n",
       "      <td>13:00:00</td>\n",
       "      <td>13:59:00</td>\n",
       "      <td>420</td>\n",
       "      <td>46800</td>\n",
       "      <td>50340</td>\n",
       "    </tr>\n",
       "    <tr>\n",
       "      <th>11</th>\n",
       "      <td>1012-10-0</td>\n",
       "      <td>14:00:00</td>\n",
       "      <td>14:59:00</td>\n",
       "      <td>480</td>\n",
       "      <td>50400</td>\n",
       "      <td>53940</td>\n",
       "    </tr>\n",
       "    <tr>\n",
       "      <th>12</th>\n",
       "      <td>1012-10-0</td>\n",
       "      <td>15:00:00</td>\n",
       "      <td>15:59:00</td>\n",
       "      <td>420</td>\n",
       "      <td>54000</td>\n",
       "      <td>57540</td>\n",
       "    </tr>\n",
       "    <tr>\n",
       "      <th>13</th>\n",
       "      <td>1012-10-0</td>\n",
       "      <td>16:00:00</td>\n",
       "      <td>16:59:00</td>\n",
       "      <td>360</td>\n",
       "      <td>57600</td>\n",
       "      <td>61140</td>\n",
       "    </tr>\n",
       "    <tr>\n",
       "      <th>14</th>\n",
       "      <td>1012-10-0</td>\n",
       "      <td>17:00:00</td>\n",
       "      <td>17:59:00</td>\n",
       "      <td>360</td>\n",
       "      <td>61200</td>\n",
       "      <td>64740</td>\n",
       "    </tr>\n",
       "    <tr>\n",
       "      <th>15</th>\n",
       "      <td>1012-10-0</td>\n",
       "      <td>18:00:00</td>\n",
       "      <td>18:59:00</td>\n",
       "      <td>360</td>\n",
       "      <td>64800</td>\n",
       "      <td>68340</td>\n",
       "    </tr>\n",
       "    <tr>\n",
       "      <th>16</th>\n",
       "      <td>1012-10-0</td>\n",
       "      <td>19:00:00</td>\n",
       "      <td>19:59:00</td>\n",
       "      <td>420</td>\n",
       "      <td>68400</td>\n",
       "      <td>71940</td>\n",
       "    </tr>\n",
       "    <tr>\n",
       "      <th>17</th>\n",
       "      <td>1012-10-0</td>\n",
       "      <td>20:00:00</td>\n",
       "      <td>20:59:00</td>\n",
       "      <td>600</td>\n",
       "      <td>72000</td>\n",
       "      <td>75540</td>\n",
       "    </tr>\n",
       "    <tr>\n",
       "      <th>18</th>\n",
       "      <td>1012-10-0</td>\n",
       "      <td>21:00:00</td>\n",
       "      <td>21:59:00</td>\n",
       "      <td>600</td>\n",
       "      <td>75600</td>\n",
       "      <td>79140</td>\n",
       "    </tr>\n",
       "    <tr>\n",
       "      <th>19</th>\n",
       "      <td>1012-10-0</td>\n",
       "      <td>22:00:00</td>\n",
       "      <td>22:59:00</td>\n",
       "      <td>600</td>\n",
       "      <td>79200</td>\n",
       "      <td>82740</td>\n",
       "    </tr>\n",
       "    <tr>\n",
       "      <th>20</th>\n",
       "      <td>1012-10-0</td>\n",
       "      <td>23:00:00</td>\n",
       "      <td>23:59:00</td>\n",
       "      <td>3600</td>\n",
       "      <td>82800</td>\n",
       "      <td>86340</td>\n",
       "    </tr>\n",
       "    <tr>\n",
       "      <th>21</th>\n",
       "      <td>1012-10-1</td>\n",
       "      <td>00:00:00</td>\n",
       "      <td>00:59:00</td>\n",
       "      <td>900</td>\n",
       "      <td>0</td>\n",
       "      <td>3540</td>\n",
       "    </tr>\n",
       "    <tr>\n",
       "      <th>22</th>\n",
       "      <td>1012-10-1</td>\n",
       "      <td>04:00:00</td>\n",
       "      <td>04:59:00</td>\n",
       "      <td>600</td>\n",
       "      <td>14400</td>\n",
       "      <td>17940</td>\n",
       "    </tr>\n",
       "    <tr>\n",
       "      <th>23</th>\n",
       "      <td>1012-10-1</td>\n",
       "      <td>05:00:00</td>\n",
       "      <td>05:59:00</td>\n",
       "      <td>420</td>\n",
       "      <td>18000</td>\n",
       "      <td>21540</td>\n",
       "    </tr>\n",
       "    <tr>\n",
       "      <th>24</th>\n",
       "      <td>1012-10-1</td>\n",
       "      <td>06:00:00</td>\n",
       "      <td>06:59:00</td>\n",
       "      <td>420</td>\n",
       "      <td>21600</td>\n",
       "      <td>25140</td>\n",
       "    </tr>\n",
       "    <tr>\n",
       "      <th>25</th>\n",
       "      <td>1012-10-1</td>\n",
       "      <td>07:00:00</td>\n",
       "      <td>07:59:00</td>\n",
       "      <td>480</td>\n",
       "      <td>25200</td>\n",
       "      <td>28740</td>\n",
       "    </tr>\n",
       "    <tr>\n",
       "      <th>26</th>\n",
       "      <td>1012-10-1</td>\n",
       "      <td>08:00:00</td>\n",
       "      <td>08:59:00</td>\n",
       "      <td>420</td>\n",
       "      <td>28800</td>\n",
       "      <td>32340</td>\n",
       "    </tr>\n",
       "    <tr>\n",
       "      <th>27</th>\n",
       "      <td>1012-10-1</td>\n",
       "      <td>09:00:00</td>\n",
       "      <td>09:59:00</td>\n",
       "      <td>480</td>\n",
       "      <td>32400</td>\n",
       "      <td>35940</td>\n",
       "    </tr>\n",
       "    <tr>\n",
       "      <th>28</th>\n",
       "      <td>1012-10-1</td>\n",
       "      <td>10:00:00</td>\n",
       "      <td>10:59:00</td>\n",
       "      <td>420</td>\n",
       "      <td>36000</td>\n",
       "      <td>39540</td>\n",
       "    </tr>\n",
       "    <tr>\n",
       "      <th>29</th>\n",
       "      <td>1012-10-1</td>\n",
       "      <td>11:00:00</td>\n",
       "      <td>11:59:00</td>\n",
       "      <td>480</td>\n",
       "      <td>39600</td>\n",
       "      <td>43140</td>\n",
       "    </tr>\n",
       "  </tbody>\n",
       "</table>\n",
       "</div>"
      ],
      "text/plain": [
       "      trip_id start_time  end_time  headway_secs  start_time_seconds  \\\n",
       "0   1012-10-0   03:00:00  03:59:00          1800               10800   \n",
       "1   1012-10-0   04:00:00  04:59:00           420               14400   \n",
       "2   1012-10-0   05:00:00  05:59:00           420               18000   \n",
       "3   1012-10-0   06:00:00  06:59:00           480               21600   \n",
       "4   1012-10-0   07:00:00  07:59:00           420               25200   \n",
       "5   1012-10-0   08:00:00  08:59:00           480               28800   \n",
       "6   1012-10-0   09:00:00  09:59:00           420               32400   \n",
       "7   1012-10-0   10:00:00  10:59:00           480               36000   \n",
       "8   1012-10-0   11:00:00  11:59:00           420               39600   \n",
       "9   1012-10-0   12:00:00  12:59:00           480               43200   \n",
       "10  1012-10-0   13:00:00  13:59:00           420               46800   \n",
       "11  1012-10-0   14:00:00  14:59:00           480               50400   \n",
       "12  1012-10-0   15:00:00  15:59:00           420               54000   \n",
       "13  1012-10-0   16:00:00  16:59:00           360               57600   \n",
       "14  1012-10-0   17:00:00  17:59:00           360               61200   \n",
       "15  1012-10-0   18:00:00  18:59:00           360               64800   \n",
       "16  1012-10-0   19:00:00  19:59:00           420               68400   \n",
       "17  1012-10-0   20:00:00  20:59:00           600               72000   \n",
       "18  1012-10-0   21:00:00  21:59:00           600               75600   \n",
       "19  1012-10-0   22:00:00  22:59:00           600               79200   \n",
       "20  1012-10-0   23:00:00  23:59:00          3600               82800   \n",
       "21  1012-10-1   00:00:00  00:59:00           900                   0   \n",
       "22  1012-10-1   04:00:00  04:59:00           600               14400   \n",
       "23  1012-10-1   05:00:00  05:59:00           420               18000   \n",
       "24  1012-10-1   06:00:00  06:59:00           420               21600   \n",
       "25  1012-10-1   07:00:00  07:59:00           480               25200   \n",
       "26  1012-10-1   08:00:00  08:59:00           420               28800   \n",
       "27  1012-10-1   09:00:00  09:59:00           480               32400   \n",
       "28  1012-10-1   10:00:00  10:59:00           420               36000   \n",
       "29  1012-10-1   11:00:00  11:59:00           480               39600   \n",
       "\n",
       "    end_time_seconds  \n",
       "0              14340  \n",
       "1              17940  \n",
       "2              21540  \n",
       "3              25140  \n",
       "4              28740  \n",
       "5              32340  \n",
       "6              35940  \n",
       "7              39540  \n",
       "8              43140  \n",
       "9              46740  \n",
       "10             50340  \n",
       "11             53940  \n",
       "12             57540  \n",
       "13             61140  \n",
       "14             64740  \n",
       "15             68340  \n",
       "16             71940  \n",
       "17             75540  \n",
       "18             79140  \n",
       "19             82740  \n",
       "20             86340  \n",
       "21              3540  \n",
       "22             17940  \n",
       "23             21540  \n",
       "24             25140  \n",
       "25             28740  \n",
       "26             32340  \n",
       "27             35940  \n",
       "28             39540  \n",
       "29             43140  "
      ]
     },
     "execution_count": 116,
     "metadata": {},
     "output_type": "execute_result"
    }
   ],
   "source": [
    "frequencies.head(30)"
   ]
  },
  {
   "cell_type": "code",
   "execution_count": 25,
   "metadata": {
    "collapsed": false
   },
   "outputs": [
    {
     "data": {
      "text/html": [
       "<div>\n",
       "<table border=\"1\" class=\"dataframe\">\n",
       "  <thead>\n",
       "    <tr style=\"text-align: right;\">\n",
       "      <th></th>\n",
       "      <th>trip_id</th>\n",
       "      <th>arrival_time</th>\n",
       "      <th>departure_time</th>\n",
       "      <th>stop_id</th>\n",
       "      <th>stop_sequence</th>\n",
       "      <th>stop_headsign</th>\n",
       "      <th>pickup_type</th>\n",
       "      <th>drop_off_type</th>\n",
       "      <th>shape_dist_traveled</th>\n",
       "      <th>timepoint</th>\n",
       "      <th>arrival_time_seconds</th>\n",
       "      <th>departure_time_seconds</th>\n",
       "    </tr>\n",
       "  </thead>\n",
       "  <tbody>\n",
       "    <tr>\n",
       "      <th>0</th>\n",
       "      <td>1012-10-0</td>\n",
       "      <td>03:40:00</td>\n",
       "      <td>03:40:00</td>\n",
       "      <td>301708</td>\n",
       "      <td>1</td>\n",
       "      <td>None</td>\n",
       "      <td>None</td>\n",
       "      <td>None</td>\n",
       "      <td>None</td>\n",
       "      <td>None</td>\n",
       "      <td>13200</td>\n",
       "      <td>13200</td>\n",
       "    </tr>\n",
       "    <tr>\n",
       "      <th>1</th>\n",
       "      <td>1012-10-0</td>\n",
       "      <td>03:42:00</td>\n",
       "      <td>03:42:00</td>\n",
       "      <td>30003039</td>\n",
       "      <td>2</td>\n",
       "      <td>None</td>\n",
       "      <td>None</td>\n",
       "      <td>None</td>\n",
       "      <td>None</td>\n",
       "      <td>None</td>\n",
       "      <td>13320</td>\n",
       "      <td>13320</td>\n",
       "    </tr>\n",
       "  </tbody>\n",
       "</table>\n",
       "</div>"
      ],
      "text/plain": [
       "     trip_id arrival_time departure_time   stop_id  stop_sequence  \\\n",
       "0  1012-10-0     03:40:00       03:40:00    301708              1   \n",
       "1  1012-10-0     03:42:00       03:42:00  30003039              2   \n",
       "\n",
       "  stop_headsign pickup_type drop_off_type shape_dist_traveled timepoint  \\\n",
       "0          None        None          None                None      None   \n",
       "1          None        None          None                None      None   \n",
       "\n",
       "   arrival_time_seconds  departure_time_seconds  \n",
       "0                 13200                   13200  \n",
       "1                 13320                   13320  "
      ]
     },
     "execution_count": 25,
     "metadata": {},
     "output_type": "execute_result"
    }
   ],
   "source": [
    "stops_time.head(2)"
   ]
  },
  {
   "cell_type": "code",
   "execution_count": 26,
   "metadata": {
    "collapsed": false
   },
   "outputs": [
    {
     "data": {
      "text/html": [
       "<div>\n",
       "<table border=\"1\" class=\"dataframe\">\n",
       "  <thead>\n",
       "    <tr style=\"text-align: right;\">\n",
       "      <th></th>\n",
       "      <th>trip_id</th>\n",
       "      <th>arrival_time</th>\n",
       "      <th>departure_time</th>\n",
       "      <th>stop_id</th>\n",
       "      <th>stop_sequence</th>\n",
       "      <th>stop_headsign</th>\n",
       "      <th>pickup_type</th>\n",
       "      <th>drop_off_type</th>\n",
       "      <th>shape_dist_traveled</th>\n",
       "      <th>timepoint</th>\n",
       "      <th>arrival_time_seconds</th>\n",
       "      <th>departure_time_seconds</th>\n",
       "    </tr>\n",
       "  </thead>\n",
       "  <tbody>\n",
       "    <tr>\n",
       "      <th>0</th>\n",
       "      <td>1012-10-0</td>\n",
       "      <td>03:40:00</td>\n",
       "      <td>03:40:00</td>\n",
       "      <td>301708</td>\n",
       "      <td>1</td>\n",
       "      <td>None</td>\n",
       "      <td>None</td>\n",
       "      <td>None</td>\n",
       "      <td>None</td>\n",
       "      <td>None</td>\n",
       "      <td>13200</td>\n",
       "      <td>13200</td>\n",
       "    </tr>\n",
       "    <tr>\n",
       "      <th>15</th>\n",
       "      <td>1012-10-1</td>\n",
       "      <td>00:50:00</td>\n",
       "      <td>00:50:00</td>\n",
       "      <td>301729</td>\n",
       "      <td>1</td>\n",
       "      <td>None</td>\n",
       "      <td>None</td>\n",
       "      <td>None</td>\n",
       "      <td>None</td>\n",
       "      <td>None</td>\n",
       "      <td>3000</td>\n",
       "      <td>3000</td>\n",
       "    </tr>\n",
       "  </tbody>\n",
       "</table>\n",
       "</div>"
      ],
      "text/plain": [
       "      trip_id arrival_time departure_time stop_id  stop_sequence  \\\n",
       "0   1012-10-0     03:40:00       03:40:00  301708              1   \n",
       "15  1012-10-1     00:50:00       00:50:00  301729              1   \n",
       "\n",
       "   stop_headsign pickup_type drop_off_type shape_dist_traveled timepoint  \\\n",
       "0           None        None          None                None      None   \n",
       "15          None        None          None                None      None   \n",
       "\n",
       "    arrival_time_seconds  departure_time_seconds  \n",
       "0                  13200                   13200  \n",
       "15                  3000                    3000  "
      ]
     },
     "execution_count": 26,
     "metadata": {},
     "output_type": "execute_result"
    }
   ],
   "source": [
    "stops_time_first = stops_time[stops_time['stop_sequence'] == 1]\n",
    "stops_time_first.head(2)"
   ]
  },
  {
   "cell_type": "code",
   "execution_count": 131,
   "metadata": {
    "collapsed": false
   },
   "outputs": [
    {
     "name": "stdout",
     "output_type": "stream",
     "text": [
      "0\n",
      "0\n",
      "15\n",
      "21    900\n",
      "Name: headway_secs, dtype: int64\n",
      "Series([], Name: headway_secs, dtype: int64)\n"
     ]
    },
    {
     "ename": "IndexError",
     "evalue": "index 0 is out of bounds for axis 0 with size 0",
     "output_type": "error",
     "traceback": [
      "\u001b[0;31m---------------------------------------------------------------------------\u001b[0m",
      "\u001b[0;31mIndexError\u001b[0m                                Traceback (most recent call last)",
      "\u001b[0;32m<ipython-input-131-0452e7721d57>\u001b[0m in \u001b[0;36m<module>\u001b[0;34m()\u001b[0m\n\u001b[1;32m     13\u001b[0m         \u001b[0;32mif\u001b[0m \u001b[0mi\u001b[0m \u001b[0;34m==\u001b[0m \u001b[0;36m15\u001b[0m\u001b[0;34m:\u001b[0m\u001b[0;34m\u001b[0m\u001b[0m\n\u001b[1;32m     14\u001b[0m             \u001b[0;32mprint\u001b[0m  \u001b[0mtrip\u001b[0m\u001b[0;34m[\u001b[0m\u001b[0;34m'headway_secs'\u001b[0m\u001b[0;34m]\u001b[0m\u001b[0;34m\u001b[0m\u001b[0m\n\u001b[0;32m---> 15\u001b[0;31m         \u001b[0msoma\u001b[0m \u001b[0;34m=\u001b[0m \u001b[0multimo\u001b[0m \u001b[0;34m+\u001b[0m \u001b[0mtrip\u001b[0m\u001b[0;34m[\u001b[0m\u001b[0;34m'headway_secs'\u001b[0m\u001b[0;34m]\u001b[0m\u001b[0;34m.\u001b[0m\u001b[0mvalues\u001b[0m\u001b[0;34m[\u001b[0m\u001b[0;36m0\u001b[0m\u001b[0;34m]\u001b[0m\u001b[0;34m\u001b[0m\u001b[0m\n\u001b[0m\u001b[1;32m     16\u001b[0m \u001b[0;34m\u001b[0m\u001b[0m\n\u001b[1;32m     17\u001b[0m         \u001b[0;32mif\u001b[0m \u001b[0msoma\u001b[0m \u001b[0;34m<\u001b[0m \u001b[0;36m86340\u001b[0m\u001b[0;34m:\u001b[0m\u001b[0;34m\u001b[0m\u001b[0m\n",
      "\u001b[0;31mIndexError\u001b[0m: index 0 is out of bounds for axis 0 with size 0"
     ]
    }
   ],
   "source": [
    "for i, row in stops_time_first.iterrows():\n",
    "    print i\n",
    "    \n",
    "    lista=[]\n",
    "    lista.append(row['arrival_time_seconds'])\n",
    "    while 1:\n",
    "        \n",
    "        ultimo = lista[-1]\n",
    "        \n",
    "\n",
    "        trip = frequencies[frequencies['trip_id'] == row['trip_id']]\n",
    "        trip = trip[(trip[\"start_time_seconds\"] <= ultimo) & (trip[\"end_time_seconds\"] >= ultimo)]\n",
    "        if i == 15:\n",
    "            print  trip['headway_secs']\n",
    "        soma = ultimo + trip['headway_secs'].values[0]\n",
    "            \n",
    "        if soma < 86340:\n",
    "            lista.append(soma)\n",
    "        \n",
    "        elif soma > 86340:\n",
    "            \n",
    "            #print soma\n",
    "            \n",
    "            ultimo = soma - 86340\n",
    "            \n",
    "            trip = frequencies[frequencies['trip_id'] == row['trip_id']]\n",
    "            trip = trip[(trip[\"start_time_seconds\"] <= ultimo) & (trip[\"end_time_seconds\"] >= ultimo)]\n",
    "            print len(trip)\n",
    "            if len(trip) > 0:\n",
    "                print 'oi'\n",
    "                print trip['headway_secs'].values\n",
    "                lista.append(ultimo + trip['headway_secs'].values[0])\n",
    "            else:\n",
    "                break\n",
    "        else:\n",
    "            break\n",
    "    # print lista\n",
    "    \n",
    "    #if 'viagens' in MG.node['301729']:\n",
    "    #    MG.node['301729']['viagens'][row['trip_id']] = lista\n",
    "    #else:\n",
    "    #    MG.node['301729']['viagens'] = {row['trip_id']: lista}"
   ]
  },
  {
   "cell_type": "code",
   "execution_count": null,
   "metadata": {
    "collapsed": false
   },
   "outputs": [],
   "source": [
    "lista.append(row['arrival_time_seconds'])\n",
    "while 1:\n",
    "    ultimo = lista[-1]\n",
    "    trip = frequencies[frequencies['trip_id'] == row['trip_id']]\n",
    "    trip = trip[(trip[\"start_time_seconds\"] < ultimo) & (trip[\"end_time_seconds\"] > ultimo)]\n",
    "    lista.append(ultimo + trip['headway_secs'])"
   ]
  },
  {
   "cell_type": "code",
   "execution_count": 72,
   "metadata": {
    "collapsed": false
   },
   "outputs": [
    {
     "data": {
      "text/html": [
       "<div>\n",
       "<table border=\"1\" class=\"dataframe\">\n",
       "  <thead>\n",
       "    <tr style=\"text-align: right;\">\n",
       "      <th></th>\n",
       "      <th>trip_id</th>\n",
       "      <th>start_time</th>\n",
       "      <th>end_time</th>\n",
       "      <th>headway_secs</th>\n",
       "      <th>start_time_seconds</th>\n",
       "      <th>end_time_seconds</th>\n",
       "    </tr>\n",
       "  </thead>\n",
       "  <tbody>\n",
       "    <tr>\n",
       "      <th>2</th>\n",
       "      <td>1012-10-0</td>\n",
       "      <td>05:00:00</td>\n",
       "      <td>05:59:00</td>\n",
       "      <td>420</td>\n",
       "      <td>18000</td>\n",
       "      <td>21540</td>\n",
       "    </tr>\n",
       "  </tbody>\n",
       "</table>\n",
       "</div>"
      ],
      "text/plain": [
       "     trip_id start_time  end_time  headway_secs  start_time_seconds  \\\n",
       "2  1012-10-0   05:00:00  05:59:00           420               18000   \n",
       "\n",
       "   end_time_seconds  \n",
       "2             21540  "
      ]
     },
     "execution_count": 72,
     "metadata": {},
     "output_type": "execute_result"
    }
   ],
   "source": [
    "trip = frequencies[frequencies['trip_id'] == '1012-10-0']\n",
    "trip[(trip[\"start_time_seconds\"] < ultimo) & (trip[\"end_time_seconds\"] > ultimo)]"
   ]
  },
  {
   "cell_type": "code",
   "execution_count": 126,
   "metadata": {
    "collapsed": false
   },
   "outputs": [
    {
     "name": "stdout",
     "output_type": "stream",
     "text": [
      "0\n",
      "1\n",
      "2\n",
      "3\n",
      "4\n",
      "5\n",
      "6\n",
      "7\n",
      "8\n",
      "9\n"
     ]
    }
   ],
   "source": [
    "for i in range(10):\n",
    "    print i\n",
    "    if i > 5:\n",
    "        while 1:\n",
    "            break"
   ]
  },
  {
   "cell_type": "code",
   "execution_count": null,
   "metadata": {
    "collapsed": true
   },
   "outputs": [],
   "source": []
  }
 ],
 "metadata": {
  "anaconda-cloud": {},
  "kernelspec": {
   "display_name": "Python [default]",
   "language": "python",
   "name": "python2"
  },
  "language_info": {
   "codemirror_mode": {
    "name": "ipython",
    "version": 2
   },
   "file_extension": ".py",
   "mimetype": "text/x-python",
   "name": "python",
   "nbconvert_exporter": "python",
   "pygments_lexer": "ipython2",
   "version": "2.7.12"
  }
 },
 "nbformat": 4,
 "nbformat_minor": 0
}
