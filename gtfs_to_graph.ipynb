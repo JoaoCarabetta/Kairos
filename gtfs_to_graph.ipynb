{
 "cells": [
  {
   "cell_type": "code",
   "execution_count": 1,
   "metadata": {
    "collapsed": true
   },
   "outputs": [],
   "source": [
    "import networkx as nx\n",
    "import sqlite3\n",
    "import pandas as pd\n",
    "\n",
    "conn = sqlite3.connect('/Users/Admin/Documents/Projects/Kairos/main/data/GTFS.db')"
   ]
  },
  {
   "cell_type": "markdown",
   "metadata": {},
   "source": [
    "#### Load DataFrames"
   ]
  },
  {
   "cell_type": "code",
   "execution_count": 2,
   "metadata": {
    "collapsed": false
   },
   "outputs": [],
   "source": [
    "stops = pd.read_sql_query('SELECT * FROM gtfs_stops', conn)\n",
    "stops_time = pd.read_sql_query('SELECT * FROM gtfs_stop_times', conn)\n",
    "frequencies = pd.read_sql_query('SELECT * FROM gtfs_frequencies', conn)\n",
    "stops_time_first = stops_time[stops_time['stop_sequence'] == 1].reset_index(drop=True)"
   ]
  },
  {
   "cell_type": "code",
   "execution_count": 4,
   "metadata": {
    "collapsed": true
   },
   "outputs": [],
   "source": [
    "MG = nx.MultiDiGraph() # initialise Graph"
   ]
  },
  {
   "cell_type": "code",
   "execution_count": 7,
   "metadata": {
    "collapsed": false
   },
   "outputs": [
    {
     "data": {
      "text/html": [
       "<div>\n",
       "<table border=\"1\" class=\"dataframe\">\n",
       "  <thead>\n",
       "    <tr style=\"text-align: right;\">\n",
       "      <th></th>\n",
       "      <th>trip_id</th>\n",
       "      <th>arrival_time</th>\n",
       "      <th>departure_time</th>\n",
       "      <th>stop_id</th>\n",
       "      <th>stop_sequence</th>\n",
       "      <th>stop_headsign</th>\n",
       "      <th>pickup_type</th>\n",
       "      <th>drop_off_type</th>\n",
       "      <th>shape_dist_traveled</th>\n",
       "      <th>timepoint</th>\n",
       "      <th>arrival_time_seconds</th>\n",
       "      <th>departure_time_seconds</th>\n",
       "    </tr>\n",
       "  </thead>\n",
       "  <tbody>\n",
       "    <tr>\n",
       "      <th>0</th>\n",
       "      <td>1012-10-0</td>\n",
       "      <td>03:40:00</td>\n",
       "      <td>03:40:00</td>\n",
       "      <td>301708</td>\n",
       "      <td>1</td>\n",
       "      <td>None</td>\n",
       "      <td>None</td>\n",
       "      <td>None</td>\n",
       "      <td>None</td>\n",
       "      <td>None</td>\n",
       "      <td>13200</td>\n",
       "      <td>13200</td>\n",
       "    </tr>\n",
       "  </tbody>\n",
       "</table>\n",
       "</div>"
      ],
      "text/plain": [
       "     trip_id arrival_time departure_time stop_id  stop_sequence stop_headsign  \\\n",
       "0  1012-10-0     03:40:00       03:40:00  301708              1          None   \n",
       "\n",
       "  pickup_type drop_off_type shape_dist_traveled timepoint  \\\n",
       "0        None          None                None      None   \n",
       "\n",
       "   arrival_time_seconds  departure_time_seconds  \n",
       "0                 13200                   13200  "
      ]
     },
     "execution_count": 7,
     "metadata": {},
     "output_type": "execute_result"
    }
   ],
   "source": [
    "stops_time.head(1)"
   ]
  },
  {
   "cell_type": "code",
   "execution_count": 8,
   "metadata": {
    "collapsed": false
   },
   "outputs": [
    {
     "data": {
      "text/html": [
       "<div>\n",
       "<table border=\"1\" class=\"dataframe\">\n",
       "  <thead>\n",
       "    <tr style=\"text-align: right;\">\n",
       "      <th></th>\n",
       "      <th>stop_id</th>\n",
       "      <th>stop_name</th>\n",
       "      <th>stop_desc</th>\n",
       "      <th>stop_lat</th>\n",
       "      <th>stop_lon</th>\n",
       "      <th>zone_id</th>\n",
       "      <th>stop_url</th>\n",
       "      <th>stop_code</th>\n",
       "      <th>stop_street</th>\n",
       "      <th>stop_city</th>\n",
       "      <th>stop_region</th>\n",
       "      <th>stop_postcode</th>\n",
       "      <th>stop_country</th>\n",
       "      <th>location_type</th>\n",
       "      <th>parent_station</th>\n",
       "      <th>stop_timezone</th>\n",
       "    </tr>\n",
       "  </thead>\n",
       "  <tbody>\n",
       "    <tr>\n",
       "      <th>0</th>\n",
       "      <td>18848</td>\n",
       "      <td>Clínicas</td>\n",
       "      <td>None</td>\n",
       "      <td>-23.55419</td>\n",
       "      <td>-46.670723</td>\n",
       "      <td>None</td>\n",
       "      <td>None</td>\n",
       "      <td>None</td>\n",
       "      <td>None</td>\n",
       "      <td>None</td>\n",
       "      <td>None</td>\n",
       "      <td>None</td>\n",
       "      <td>None</td>\n",
       "      <td>None</td>\n",
       "      <td>None</td>\n",
       "      <td>None</td>\n",
       "    </tr>\n",
       "  </tbody>\n",
       "</table>\n",
       "</div>"
      ],
      "text/plain": [
       "  stop_id stop_name stop_desc  stop_lat   stop_lon zone_id stop_url stop_code  \\\n",
       "0   18848  Clínicas      None -23.55419 -46.670723    None     None      None   \n",
       "\n",
       "  stop_street stop_city stop_region stop_postcode stop_country location_type  \\\n",
       "0        None      None        None          None         None          None   \n",
       "\n",
       "  parent_station stop_timezone  \n",
       "0           None          None  "
      ]
     },
     "execution_count": 8,
     "metadata": {},
     "output_type": "execute_result"
    }
   ],
   "source": [
    "stops.head(1)"
   ]
  },
  {
   "cell_type": "code",
   "execution_count": null,
   "metadata": {
    "collapsed": true
   },
   "outputs": [],
   "source": []
  },
  {
   "cell_type": "code",
   "execution_count": 5,
   "metadata": {
    "collapsed": true
   },
   "outputs": [],
   "source": [
    "## Add Nodes"
   ]
  },
  {
   "cell_type": "code",
   "execution_count": 7,
   "metadata": {
    "collapsed": true
   },
   "outputs": [],
   "source": [
    "for i, row in stops.iterrows():\n",
    "    MG.add_node(row['stop_id'], location={'long': row['stop_lon'], 'lat': row['stop_lat']})"
   ]
  },
  {
   "cell_type": "code",
   "execution_count": 8,
   "metadata": {
    "collapsed": true
   },
   "outputs": [],
   "source": [
    "## Add Edges"
   ]
  },
  {
   "cell_type": "code",
   "execution_count": 9,
   "metadata": {
    "collapsed": true
   },
   "outputs": [],
   "source": [
    "def unicode_to_seconds(a):\n",
    "    a = map(int, a.split(':'))\n",
    "    return a[0] * 3600 + a[1] * 60 + a[2]"
   ]
  },
  {
   "cell_type": "code",
   "execution_count": 11,
   "metadata": {
    "collapsed": true
   },
   "outputs": [],
   "source": [
    "for i, row in stops_time.iterrows():\n",
    "    \n",
    "    try:\n",
    "        partida, chegada = stops_time.iloc[i], stops_time.iloc[i + 1]\n",
    "    except:\n",
    "        break\n",
    "    if chegada['trip_id'] == partida['trip_id']:\n",
    "        MG.add_edge(partida['stop_id'], chegada['stop_id'], \n",
    "                    attr = {'tempo': chegada['departure_time_seconds']-partida['arrival_time_seconds'],\n",
    "                      'trip_id': chegada['trip_id']}\n",
    "        )"
   ]
  },
  {
   "cell_type": "code",
   "execution_count": null,
   "metadata": {
    "collapsed": false
   },
   "outputs": [],
   "source": []
  },
  {
   "cell_type": "markdown",
   "metadata": {},
   "source": [
    "## Add frequency"
   ]
  },
  {
   "cell_type": "code",
   "execution_count": 16,
   "metadata": {
    "collapsed": false
   },
   "outputs": [
    {
     "data": {
      "text/html": [
       "<div>\n",
       "<table border=\"1\" class=\"dataframe\">\n",
       "  <thead>\n",
       "    <tr style=\"text-align: right;\">\n",
       "      <th></th>\n",
       "      <th>trip_id</th>\n",
       "      <th>start_time</th>\n",
       "      <th>end_time</th>\n",
       "      <th>headway_secs</th>\n",
       "      <th>start_time_seconds</th>\n",
       "      <th>end_time_seconds</th>\n",
       "    </tr>\n",
       "  </thead>\n",
       "  <tbody>\n",
       "    <tr>\n",
       "      <th>0</th>\n",
       "      <td>1012-10-0</td>\n",
       "      <td>03:00:00</td>\n",
       "      <td>03:59:00</td>\n",
       "      <td>1800</td>\n",
       "      <td>10800</td>\n",
       "      <td>14340</td>\n",
       "    </tr>\n",
       "    <tr>\n",
       "      <th>1</th>\n",
       "      <td>1012-10-0</td>\n",
       "      <td>04:00:00</td>\n",
       "      <td>04:59:00</td>\n",
       "      <td>420</td>\n",
       "      <td>14400</td>\n",
       "      <td>17940</td>\n",
       "    </tr>\n",
       "  </tbody>\n",
       "</table>\n",
       "</div>"
      ],
      "text/plain": [
       "     trip_id start_time  end_time  headway_secs  start_time_seconds  \\\n",
       "0  1012-10-0   03:00:00  03:59:00          1800               10800   \n",
       "1  1012-10-0   04:00:00  04:59:00           420               14400   \n",
       "\n",
       "   end_time_seconds  \n",
       "0             14340  \n",
       "1             17940  "
      ]
     },
     "execution_count": 16,
     "metadata": {},
     "output_type": "execute_result"
    }
   ],
   "source": [
    "frequencies.head(2)"
   ]
  },
  {
   "cell_type": "code",
   "execution_count": 17,
   "metadata": {
    "collapsed": false
   },
   "outputs": [
    {
     "data": {
      "text/html": [
       "<div>\n",
       "<table border=\"1\" class=\"dataframe\">\n",
       "  <thead>\n",
       "    <tr style=\"text-align: right;\">\n",
       "      <th></th>\n",
       "      <th>trip_id</th>\n",
       "      <th>arrival_time</th>\n",
       "      <th>departure_time</th>\n",
       "      <th>stop_id</th>\n",
       "      <th>stop_sequence</th>\n",
       "      <th>stop_headsign</th>\n",
       "      <th>pickup_type</th>\n",
       "      <th>drop_off_type</th>\n",
       "      <th>shape_dist_traveled</th>\n",
       "      <th>timepoint</th>\n",
       "      <th>arrival_time_seconds</th>\n",
       "      <th>departure_time_seconds</th>\n",
       "    </tr>\n",
       "  </thead>\n",
       "  <tbody>\n",
       "    <tr>\n",
       "      <th>0</th>\n",
       "      <td>1012-10-0</td>\n",
       "      <td>03:40:00</td>\n",
       "      <td>03:40:00</td>\n",
       "      <td>301708</td>\n",
       "      <td>1</td>\n",
       "      <td>None</td>\n",
       "      <td>None</td>\n",
       "      <td>None</td>\n",
       "      <td>None</td>\n",
       "      <td>None</td>\n",
       "      <td>13200</td>\n",
       "      <td>13200</td>\n",
       "    </tr>\n",
       "    <tr>\n",
       "      <th>1</th>\n",
       "      <td>1012-10-0</td>\n",
       "      <td>03:42:00</td>\n",
       "      <td>03:42:00</td>\n",
       "      <td>30003039</td>\n",
       "      <td>2</td>\n",
       "      <td>None</td>\n",
       "      <td>None</td>\n",
       "      <td>None</td>\n",
       "      <td>None</td>\n",
       "      <td>None</td>\n",
       "      <td>13320</td>\n",
       "      <td>13320</td>\n",
       "    </tr>\n",
       "  </tbody>\n",
       "</table>\n",
       "</div>"
      ],
      "text/plain": [
       "     trip_id arrival_time departure_time   stop_id  stop_sequence  \\\n",
       "0  1012-10-0     03:40:00       03:40:00    301708              1   \n",
       "1  1012-10-0     03:42:00       03:42:00  30003039              2   \n",
       "\n",
       "  stop_headsign pickup_type drop_off_type shape_dist_traveled timepoint  \\\n",
       "0          None        None          None                None      None   \n",
       "1          None        None          None                None      None   \n",
       "\n",
       "   arrival_time_seconds  departure_time_seconds  \n",
       "0                 13200                   13200  \n",
       "1                 13320                   13320  "
      ]
     },
     "execution_count": 17,
     "metadata": {},
     "output_type": "execute_result"
    }
   ],
   "source": [
    "stops_time.head(2)"
   ]
  },
  {
   "cell_type": "code",
   "execution_count": 28,
   "metadata": {
    "collapsed": false
   },
   "outputs": [
    {
     "data": {
      "text/html": [
       "<div>\n",
       "<table border=\"1\" class=\"dataframe\">\n",
       "  <thead>\n",
       "    <tr style=\"text-align: right;\">\n",
       "      <th></th>\n",
       "      <th>trip_id</th>\n",
       "      <th>arrival_time</th>\n",
       "      <th>departure_time</th>\n",
       "      <th>stop_id</th>\n",
       "      <th>stop_sequence</th>\n",
       "      <th>stop_headsign</th>\n",
       "      <th>pickup_type</th>\n",
       "      <th>drop_off_type</th>\n",
       "      <th>shape_dist_traveled</th>\n",
       "      <th>timepoint</th>\n",
       "      <th>arrival_time_seconds</th>\n",
       "      <th>departure_time_seconds</th>\n",
       "    </tr>\n",
       "  </thead>\n",
       "  <tbody>\n",
       "    <tr>\n",
       "      <th>0</th>\n",
       "      <td>1012-10-0</td>\n",
       "      <td>03:40:00</td>\n",
       "      <td>03:40:00</td>\n",
       "      <td>301708</td>\n",
       "      <td>1</td>\n",
       "      <td>None</td>\n",
       "      <td>None</td>\n",
       "      <td>None</td>\n",
       "      <td>None</td>\n",
       "      <td>None</td>\n",
       "      <td>13200</td>\n",
       "      <td>13200</td>\n",
       "    </tr>\n",
       "    <tr>\n",
       "      <th>1</th>\n",
       "      <td>1012-10-1</td>\n",
       "      <td>00:50:00</td>\n",
       "      <td>00:50:00</td>\n",
       "      <td>301729</td>\n",
       "      <td>1</td>\n",
       "      <td>None</td>\n",
       "      <td>None</td>\n",
       "      <td>None</td>\n",
       "      <td>None</td>\n",
       "      <td>None</td>\n",
       "      <td>3000</td>\n",
       "      <td>3000</td>\n",
       "    </tr>\n",
       "  </tbody>\n",
       "</table>\n",
       "</div>"
      ],
      "text/plain": [
       "     trip_id arrival_time departure_time stop_id  stop_sequence stop_headsign  \\\n",
       "0  1012-10-0     03:40:00       03:40:00  301708              1          None   \n",
       "1  1012-10-1     00:50:00       00:50:00  301729              1          None   \n",
       "\n",
       "  pickup_type drop_off_type shape_dist_traveled timepoint  \\\n",
       "0        None          None                None      None   \n",
       "1        None          None                None      None   \n",
       "\n",
       "   arrival_time_seconds  departure_time_seconds  \n",
       "0                 13200                   13200  \n",
       "1                  3000                    3000  "
      ]
     },
     "execution_count": 28,
     "metadata": {},
     "output_type": "execute_result"
    }
   ],
   "source": [
    "\n",
    "stops_time_first.head(2)"
   ]
  },
  {
   "cell_type": "markdown",
   "metadata": {},
   "source": [
    "### Primeiros Stops"
   ]
  },
  {
   "cell_type": "code",
   "execution_count": 33,
   "metadata": {
    "collapsed": false
   },
   "outputs": [
    {
     "name": "stdout",
     "output_type": "stream",
     "text": [
      "id 0\n",
      "id 100\n",
      "id 200\n",
      "id 300\n",
      "id 400\n",
      "id 500\n",
      "id 600\n",
      "id 700\n",
      "id 800\n",
      "id 900\n",
      "id 1000\n",
      "id 1100\n",
      "id 1200\n",
      "id 1300\n",
      "id 1400\n",
      "id 1500\n",
      "id 1600\n",
      "pulou\n",
      "id 1700\n",
      "fullday\n",
      "fullday\n",
      "id 1800\n",
      "id 1900\n",
      "pulou\n",
      "id 2000\n",
      "id 2100\n",
      "id 2200\n",
      "id 2300\n"
     ]
    }
   ],
   "source": [
    "for i, row in stops_time_first.iterrows():\n",
    "    \n",
    "    \n",
    "    if i % 100==0:\n",
    "        print('id', i)\n",
    "\n",
    "    lista = []\n",
    "    lista.append(row['arrival_time_seconds'])\n",
    "    trip = frequencies[frequencies['trip_id'] == row['trip_id']]\n",
    "    \n",
    "    rodou = 0\n",
    "    fullday = 0\n",
    "    \n",
    "    if len(trip[(trip[\"start_time_seconds\"] <= lista[0]) &\n",
    "                             (trip[\"end_time_seconds\"] + 60 >= lista[0])]) > 0:\n",
    "    \n",
    "        # Para baixo\n",
    "        while 1:\n",
    "\n",
    "            ultimo = lista[-1] \n",
    "            timetable = trip[(trip[\"start_time_seconds\"] <= ultimo) &\n",
    "                             (trip[\"end_time_seconds\"] + 60 >= ultimo)]\n",
    "\n",
    "            if len(timetable) > 0:\n",
    "                \n",
    "                soma = timetable['headway_secs'].values[0] + ultimo\n",
    "                \n",
    "                if rodou == 1 and soma > lista[0]:\n",
    "                    fullday = 1\n",
    "                    print('fullday')\n",
    "                    break\n",
    "                \n",
    "                else:\n",
    "                    if soma <= 86340:\n",
    "                        lista.append(soma)\n",
    "                    else: \n",
    "                        rodou = 1\n",
    "                        lista.append(soma - 86340)\n",
    "            \n",
    "            else:\n",
    "                break\n",
    "\n",
    "\n",
    "        # Para cima  \n",
    "        while fullday==0:\n",
    "\n",
    "            primeiro = lista[0]\n",
    "            timetable_atual = trip[(trip[\"start_time_seconds\"] <= primeiro) \n",
    "                                   & (trip[\"end_time_seconds\"] + 60 >= primeiro)]\n",
    "\n",
    "            if timetable_atual['start_time_seconds'].values[0] == 0:\n",
    "                timetable_anterior = trip[trip['end_time_seconds'] == 82740]\n",
    "            else:\n",
    "                timetable_anterior = trip[(trip['end_time_seconds']) == \n",
    "                                          timetable_atual['start_time_seconds'].values[0] - 60]\n",
    "\n",
    "            # com timetable anterior\n",
    "            if len(timetable_anterior) > 0:\n",
    "\n",
    "                subt = primeiro - timetable_anterior['headway_secs'].values[0]\n",
    "                if subt < 0:\n",
    "                    subt = subt + 82740\n",
    "\n",
    "                # se dentro da timetable anterior\n",
    "                if subt <= timetable_anterior['end_time_seconds'].values[0]:\n",
    "                    lista.insert(0, subt) \n",
    "                else:\n",
    "                    lista.insert(0, primeiro - timetable_atual['headway_secs'].values[0])\n",
    "\n",
    "            # se dentro da timetable atual mas timetable anterior inexistente \n",
    "\n",
    "            elif ((primeiro - timetable_atual['headway_secs'].values[0]) >=\n",
    "                    timetable_atual['start_time_seconds'].values[0]):\n",
    "\n",
    "                lista.insert(0, primeiro - timetable_atual['headway_secs'].values[0])\n",
    "\n",
    "            else:\n",
    "                break\n",
    "\n",
    "\n",
    "        if 'viagens' in MG.node[row['stop_id']]:\n",
    "            MG.node[row['stop_id']]['viagens'][row['trip_id']] = lista\n",
    "        else:\n",
    "            MG.node[row['stop_id']]['viagens'] = {row['trip_id']: lista}\n",
    "\n",
    "    else:\n",
    "        print('pulou')"
   ]
  },
  {
   "cell_type": "code",
   "execution_count": 2,
   "metadata": {
    "collapsed": false
   },
   "outputs": [
    {
     "ename": "NameError",
     "evalue": "name 'nx' is not defined",
     "output_type": "error",
     "traceback": [
      "\u001b[0;31m---------------------------------------------------------------------------\u001b[0m",
      "\u001b[0;31mNameError\u001b[0m                                 Traceback (most recent call last)",
      "\u001b[0;32m<ipython-input-2-91ab2e41b1e6>\u001b[0m in \u001b[0;36m<module>\u001b[0;34m()\u001b[0m\n\u001b[0;32m----> 1\u001b[0;31m \u001b[0mMG\u001b[0m \u001b[0;34m=\u001b[0m \u001b[0mnx\u001b[0m\u001b[0;34m.\u001b[0m\u001b[0mread_gexf\u001b[0m\u001b[0;34m(\u001b[0m\u001b[0;34m'sp_partial2.gexf'\u001b[0m\u001b[0;34m)\u001b[0m\u001b[0;34m\u001b[0m\u001b[0m\n\u001b[0m",
      "\u001b[0;31mNameError\u001b[0m: name 'nx' is not defined"
     ]
    }
   ],
   "source": [
    "nx.write_gexf(MG, 'graphs/sp_partial2.gexf')"
   ]
  },
  {
   "cell_type": "markdown",
   "metadata": {},
   "source": [
    "#### checar se frequencies tem linhas com descontinuidade nos horários"
   ]
  },
  {
   "cell_type": "markdown",
   "metadata": {
    "collapsed": false
   },
   "source": [
    "for i, row in stops_time_first.iterrows():\n",
    "    \n",
    "    trip = row['trip_id']\n",
    "    \n",
    "    linha = frequencies[frequencies['trip_id'] == row['trip_id']]\n",
    "    \n",
    "    \n",
    "    \n",
    "    for i, hora in linha.iterrows():\n",
    "        \n",
    "        try:\n",
    "            linha.iloc[i+1]\n",
    "        except:\n",
    "            break\n",
    "        \n",
    "        start = linha.iloc[i+1]['start_time_seconds']\n",
    "        \n",
    "        end = linha.iloc[i]['end_time_seconds']\n",
    "        \n",
    "        \n",
    "        \n",
    "        if not(start - end == 60) and i < (len(linha) - 1):\n",
    "            print('oi')   "
   ]
  },
  {
   "cell_type": "markdown",
   "metadata": {},
   "source": [
    "### READ FILE"
   ]
  },
  {
   "cell_type": "code",
   "execution_count": 3,
   "metadata": {
    "collapsed": true
   },
   "outputs": [],
   "source": [
    "import ast\n",
    "MG = nx.read_gexf('graphs/sp_partial2.gexf')graphs/"
   ]
  },
  {
   "cell_type": "code",
   "execution_count": 4,
   "metadata": {
    "collapsed": false
   },
   "outputs": [],
   "source": [
    "for node in MG.nodes(data=True):\n",
    "\n",
    "    for key, value in MG.edge[node[0]].items():\n",
    "        for k, v in value.items():\n",
    "            if type(v['attr']) == str:\n",
    "                MG.edge[node[0]][key][k]['attr'] = ast.literal_eval(v['attr'])"
   ]
  },
  {
   "cell_type": "code",
   "execution_count": 5,
   "metadata": {
    "collapsed": false
   },
   "outputs": [],
   "source": [
    "for node in MG.nodes(data=True):\n",
    "    if type(MG.node[node[0]]['location']) == str:\n",
    "        pass\n",
    "        # MG.node[node[0]]['location'] = ast.literal_eval(node[1]['location'])\n",
    "    if len(node[1]) == 3:\n",
    "        if type(MG.node[node[0]]['viagens']) == str:\n",
    "            MG.node[node[0]]['viagens'] = ast.literal_eval(MG.node[node[0]]['viagens'])\n"
   ]
  },
  {
   "cell_type": "code",
   "execution_count": null,
   "metadata": {
    "collapsed": false
   },
   "outputs": [],
   "source": []
  },
  {
   "cell_type": "markdown",
   "metadata": {},
   "source": [
    "### Resto dos stops\n",
    "- Caminho fechado busao"
   ]
  },
  {
   "cell_type": "code",
   "execution_count": 55,
   "metadata": {
    "collapsed": false
   },
   "outputs": [
    {
     "name": "stdout",
     "output_type": "stream",
     "text": [
      "0\n",
      "100\n",
      "200\n",
      "300\n",
      "400\n",
      "500\n",
      "600\n",
      "700\n",
      "800\n",
      "900\n",
      "1000\n",
      "1100\n",
      "1200\n",
      "1300\n",
      "1400\n",
      "1500\n",
      "1600\n",
      "6311345\n",
      "1700\n",
      "1800\n",
      "1900\n",
      "130001844\n",
      "2000\n",
      "2100\n",
      "2200\n",
      "2300\n"
     ]
    }
   ],
   "source": [
    "for i, row in stops_time_first.iterrows():\n",
    "       \n",
    "    if i % 100 == 0:\n",
    "        print(i)\n",
    "        \n",
    "    trip_id = row['trip_id']\n",
    "    stop_id_velho = row['stop_id']\n",
    "    \n",
    "    outputs_set = []\n",
    "    j = 0\n",
    "    \n",
    "    while 1:\n",
    "        \n",
    "        output = getpath(MG.edge[stop_id_velho], trip_id) # get path in edge dict to stop_id\n",
    "        \n",
    "        if output == None or output in outputs_set: # if no path or already visited, break\n",
    "            break            \n",
    "        else:\n",
    "            outputs_set.append(output)\n",
    "        \n",
    "        stop_id_novo, number, *oi = output # distribuir variáveis\n",
    "        \n",
    "        \n",
    "        # get previous timetable\n",
    "        try:\n",
    "            timetable = MG.node[stop_id_velho]['viagens'][trip_id]\n",
    "        except KeyError:\n",
    "            print(stop_id_velho)\n",
    "            continue\n",
    "        \n",
    "        # get trip time\n",
    "        trip_time = MG.edge[stop_id_velho][stop_id_novo][number]['attr']['tempo']\n",
    "        \n",
    "        # generate new timetable\n",
    "        newtimetable = [i + trip_time for i in MG.node[stop_id_velho]['viagens'][trip_id]]\n",
    "\n",
    "        # append new timetable to stop\n",
    "        if 'viagens' in MG.node[stop_id_novo]:\n",
    "            MG.node[stop_id_novo]['viagens'][trip_id] = newtimetable\n",
    "        else:\n",
    "            MG.node[stop_id_novo]['viagens'] = {trip_id: newtimetable}\n",
    "        \n",
    "        # replace stop_ids\n",
    "        stop_id_velho = stop_id_novo\n",
    "        \n",
    "        j = j + 1"
   ]
  },
  {
   "cell_type": "code",
   "execution_count": 8,
   "metadata": {
    "collapsed": true
   },
   "outputs": [],
   "source": [
    "def getpath(nested_dict, value, prepath=()):\n",
    "    for k, v in nested_dict.items():\n",
    "        path = prepath + (k,)\n",
    "        if v == value: # found value\n",
    "            return path\n",
    "        elif hasattr(v, 'items'): # v is a dict\n",
    "            p = getpath(v, value, path) # recursive call\n",
    "            if p is not None:\n",
    "                return p"
   ]
  },
  {
   "cell_type": "code",
   "execution_count": 58,
   "metadata": {
    "collapsed": false
   },
   "outputs": [],
   "source": [
    "nx.write_gexf(MG, 'graphs/sp_final.gexf')"
   ]
  },
  {
   "cell_type": "code",
   "execution_count": null,
   "metadata": {
    "collapsed": false
   },
   "outputs": [],
   "source": []
  },
  {
   "cell_type": "code",
   "execution_count": null,
   "metadata": {
    "collapsed": false
   },
   "outputs": [],
   "source": []
  },
  {
   "cell_type": "code",
   "execution_count": null,
   "metadata": {
    "collapsed": true
   },
   "outputs": [],
   "source": []
  }
 ],
 "metadata": {
  "anaconda-cloud": {},
  "kernelspec": {
   "display_name": "Python 3",
   "language": "python",
   "name": "python3"
  },
  "language_info": {
   "codemirror_mode": {
    "name": "ipython",
    "version": 3
   },
   "file_extension": ".py",
   "mimetype": "text/x-python",
   "name": "python",
   "nbconvert_exporter": "python",
   "pygments_lexer": "ipython3",
   "version": "3.5.2"
  }
 },
 "nbformat": 4,
 "nbformat_minor": 1
}
